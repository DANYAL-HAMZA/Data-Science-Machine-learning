{
 "cells": [
  {
   "cell_type": "code",
   "execution_count": 15,
   "id": "d42bf600-e374-495a-af48-8dee7f347ddd",
   "metadata": {
    "collapsed": true,
    "jupyter": {
     "outputs_hidden": true
    },
    "tags": []
   },
   "outputs": [
    {
     "name": "stdout",
     "output_type": "stream",
     "text": [
      "Requirement already satisfied: torchvision in c:\\users\\pc\\anaconda3\\lib\\site-packages (0.15.2)\n",
      "Requirement already satisfied: numpy in c:\\users\\pc\\anaconda3\\lib\\site-packages (from torchvision) (1.24.3)\n",
      "Requirement already satisfied: requests in c:\\users\\pc\\anaconda3\\lib\\site-packages (from torchvision) (2.31.0)\n",
      "Requirement already satisfied: torch==2.0.1 in c:\\users\\pc\\anaconda3\\lib\\site-packages (from torchvision) (2.0.1)\n",
      "Requirement already satisfied: pillow!=8.3.*,>=5.3.0 in c:\\users\\pc\\anaconda3\\lib\\site-packages (from torchvision) (9.4.0)\n",
      "Requirement already satisfied: filelock in c:\\users\\pc\\anaconda3\\lib\\site-packages (from torch==2.0.1->torchvision) (3.9.0)\n",
      "Requirement already satisfied: typing-extensions in c:\\users\\pc\\anaconda3\\lib\\site-packages (from torch==2.0.1->torchvision) (4.7.1)\n",
      "Requirement already satisfied: sympy in c:\\users\\pc\\anaconda3\\lib\\site-packages (from torch==2.0.1->torchvision) (1.11.1)\n",
      "Requirement already satisfied: networkx in c:\\users\\pc\\anaconda3\\lib\\site-packages (from torch==2.0.1->torchvision) (3.1)\n",
      "Requirement already satisfied: jinja2 in c:\\users\\pc\\anaconda3\\lib\\site-packages (from torch==2.0.1->torchvision) (3.1.2)\n",
      "Requirement already satisfied: charset-normalizer<4,>=2 in c:\\users\\pc\\anaconda3\\lib\\site-packages (from requests->torchvision) (2.0.4)\n",
      "Requirement already satisfied: idna<4,>=2.5 in c:\\users\\pc\\anaconda3\\lib\\site-packages (from requests->torchvision) (3.4)\n",
      "Requirement already satisfied: urllib3<3,>=1.21.1 in c:\\users\\pc\\anaconda3\\lib\\site-packages (from requests->torchvision) (1.26.16)\n",
      "Requirement already satisfied: certifi>=2017.4.17 in c:\\users\\pc\\anaconda3\\lib\\site-packages (from requests->torchvision) (2023.7.22)\n",
      "Requirement already satisfied: MarkupSafe>=2.0 in c:\\users\\pc\\anaconda3\\lib\\site-packages (from jinja2->torch==2.0.1->torchvision) (2.1.1)\n",
      "Requirement already satisfied: mpmath>=0.19 in c:\\users\\pc\\anaconda3\\lib\\site-packages (from sympy->torch==2.0.1->torchvision) (1.3.0)\n",
      "Note: you may need to restart the kernel to use updated packages.\n"
     ]
    }
   ],
   "source": [
    "pip install torchvision"
   ]
  },
  {
   "cell_type": "code",
   "execution_count": 16,
   "id": "c44daee7-dd0c-496f-8153-605ee75e44df",
   "metadata": {
    "collapsed": true,
    "jupyter": {
     "outputs_hidden": true
    },
    "tags": []
   },
   "outputs": [
    {
     "name": "stdout",
     "output_type": "stream",
     "text": [
      "Note: you may need to restart the kernel to use updated packages.\n"
     ]
    },
    {
     "name": "stderr",
     "output_type": "stream",
     "text": [
      "WARNING: Retrying (Retry(total=4, connect=None, read=None, redirect=None, status=None)) after connection broken by 'NewConnectionError('<pip._vendor.urllib3.connection.HTTPSConnection object at 0x00000219BDD792D0>: Failed to establish a new connection: [Errno 11001] getaddrinfo failed')': /simple/jovian/\n",
      "WARNING: Retrying (Retry(total=3, connect=None, read=None, redirect=None, status=None)) after connection broken by 'NewConnectionError('<pip._vendor.urllib3.connection.HTTPSConnection object at 0x00000219BDD73B50>: Failed to establish a new connection: [Errno 11001] getaddrinfo failed')': /simple/jovian/\n",
      "WARNING: Retrying (Retry(total=2, connect=None, read=None, redirect=None, status=None)) after connection broken by 'NewConnectionError('<pip._vendor.urllib3.connection.HTTPSConnection object at 0x00000219BDD63650>: Failed to establish a new connection: [Errno 11001] getaddrinfo failed')': /simple/jovian/\n",
      "WARNING: Retrying (Retry(total=1, connect=None, read=None, redirect=None, status=None)) after connection broken by 'NewConnectionError('<pip._vendor.urllib3.connection.HTTPSConnection object at 0x00000219BDD81090>: Failed to establish a new connection: [Errno 11001] getaddrinfo failed')': /simple/jovian/\n",
      "WARNING: Retrying (Retry(total=0, connect=None, read=None, redirect=None, status=None)) after connection broken by 'NewConnectionError('<pip._vendor.urllib3.connection.HTTPSConnection object at 0x00000219BDD83AD0>: Failed to establish a new connection: [Errno 11001] getaddrinfo failed')': /simple/jovian/\n",
      "ERROR: Could not find a version that satisfies the requirement jovian (from versions: none)\n",
      "ERROR: No matching distribution found for jovian\n"
     ]
    }
   ],
   "source": [
    "pip install jovian"
   ]
  },
  {
   "cell_type": "code",
   "execution_count": 17,
   "id": "8f6ed992-d73a-4f2e-9d12-4aba487fbdcd",
   "metadata": {
    "tags": []
   },
   "outputs": [],
   "source": [
    "import torch\n",
    "import torchvision\n",
    "from torchvision.datasets import MNIST"
   ]
  },
  {
   "cell_type": "code",
   "execution_count": 18,
   "id": "6ed38a3b-3cb5-4418-b8a1-06a283f2c2b8",
   "metadata": {
    "tags": []
   },
   "outputs": [],
   "source": [
    "dataset = MNIST(root='data/',download=True)"
   ]
  },
  {
   "cell_type": "code",
   "execution_count": 19,
   "id": "0eeca128-d0d5-4254-a3ad-24f1c2fb5116",
   "metadata": {
    "tags": []
   },
   "outputs": [
    {
     "data": {
      "text/plain": [
       "60000"
      ]
     },
     "execution_count": 19,
     "metadata": {},
     "output_type": "execute_result"
    }
   ],
   "source": [
    "len(dataset)"
   ]
  },
  {
   "cell_type": "code",
   "execution_count": 20,
   "id": "1d611937-ac0f-4813-aa69-404c605f0b2a",
   "metadata": {
    "tags": []
   },
   "outputs": [],
   "source": [
    "import matplotlib.pyplot as plt"
   ]
  },
  {
   "cell_type": "code",
   "execution_count": 21,
   "id": "07cf06cc-ba96-4659-a454-2d0cd5271495",
   "metadata": {
    "tags": []
   },
   "outputs": [
    {
     "name": "stdout",
     "output_type": "stream",
     "text": [
      "label: 5\n"
     ]
    },
    {
     "data": {
      "image/png": "[encoded data removed]",
      "text/plain": [
       "<Figure size 640x480 with 1 Axes>"
      ]
     },
     "metadata": {},
     "output_type": "display_data"
    }
   ],
   "source": [
    "image,label = dataset[0]\n",
    "plt.imshow(image,cmap='gray')\n",
    "print('label:',label)"
   ]
  },
  {
   "cell_type": "code",
   "execution_count": 22,
   "id": "c2e1afcf-55a1-4c0f-b433-e32d353da1a5",
   "metadata": {},
   "outputs": [],
   "source": [
    "#pytorch work with tensors so we need to convert these images to tensors and specifying a transforms parameter in the\n",
    "#MNIST class"
   ]
  },
  {
   "cell_type": "code",
   "execution_count": 23,
   "id": "632426b7-b94b-4d93-8824-91fe7dff739d",
   "metadata": {
    "tags": []
   },
   "outputs": [],
   "source": [
    "import torchvision.transforms as transforms"
   ]
  },
  {
   "cell_type": "code",
   "execution_count": 24,
   "id": "aa598e5f-f394-4920-9b1b-b004b36dde2c",
   "metadata": {
    "tags": []
   },
   "outputs": [],
   "source": [
    "dataset = MNIST(root='data/',train=True,transform=transforms.ToTensor())"
   ]
  },
  {
   "cell_type": "code",
   "execution_count": 25,
   "id": "e505d780-a659-43dd-81f5-1c0217dcc13b",
   "metadata": {
    "tags": []
   },
   "outputs": [
    {
     "name": "stdout",
     "output_type": "stream",
     "text": [
      "torch.Size([1, 28, 28]) 5\n"
     ]
    }
   ],
   "source": [
    "image_tensor,label = dataset[0]\n",
    "print(image_tensor.shape,label)"
   ]
  },
  {
   "cell_type": "code",
   "execution_count": 26,
   "id": "1c04b9db-05e5-45dd-8c05-1c0e1283e82c",
   "metadata": {
    "tags": []
   },
   "outputs": [
    {
     "data": {
      "text/plain": [
       "<matplotlib.image.AxesImage at 0x295669c1490>"
      ]
     },
     "execution_count": 26,
     "metadata": {},
     "output_type": "execute_result"
    },
    {
     "data": {
      "image/png": "[encoded data removed]",
      "text/plain": [
       "<Figure size 640x480 with 1 Axes>"
      ]
     },
     "metadata": {},
     "output_type": "display_data"
    }
   ],
   "source": [
    "plt.imshow(image_tensor[0,0:25,0:25], cmap='gray')\n"
   ]
  },
  {
   "cell_type": "code",
   "execution_count": 27,
   "id": "832c3a26-915e-4848-a1fe-6436fd4cb9da",
   "metadata": {},
   "outputs": [],
   "source": [
    "#we must split our dataset into training, validation and testing datasets but there are no  pre \n",
    "#defined method for splitting the dataset,hence we write a method to do so"
   ]
  },
  {
   "cell_type": "code",
   "execution_count": 28,
   "id": "500cb061-532f-425a-b7e2-e29ed26292b9",
   "metadata": {
    "tags": []
   },
   "outputs": [],
   "source": [
    "import numpy as np\n",
    "#below, we define a split_indices function that randomly shuffles the array indices, 0,1 to n-1, and separates out a desired  \n",
    "#from it for the validation set. Indices shuffling is important because training images are often ordered by  target labels \n",
    "#that isimages of zero's followed by images of one's and so on. So if we were to pick 20% for vlidation set \n",
    "#simply by selecting the last 20% of the training images. The validation set will only contain images of 8s and 9s\n",
    "#whereas the training set will consist of no images of 8s and 9s"
   ]
  },
  {
   "cell_type": "code",
   "execution_count": 29,
   "id": "abe84f7a-0320-4c76-8ae3-dc5d80cd376a",
   "metadata": {
    "tags": []
   },
   "outputs": [],
   "source": [
    "def split_indices(n,val_pct):\n",
    "    #determine size of validation set\n",
    "    n_val = int(val_pct*n)\n",
    "    #create a random permutation of 0 to n-1\n",
    "    idx = np.random.permutation(n)\n",
    "    #pick first n_val indices for validation set\n",
    "    return idx[n_val:],idx[:n_val]"
   ]
  },
  {
   "cell_type": "code",
   "execution_count": 30,
   "id": "6f43c6b2-8e90-4fef-9ca8-97a72548f28e",
   "metadata": {},
   "outputs": [],
   "source": [
    "train_indices,val_indices = split_indices(len(dataset), val_pct=0.2)"
   ]
  },
  {
   "cell_type": "code",
   "execution_count": 31,
   "id": "02b9e2f2-24ed-415a-8514-6d3cee9bf690",
   "metadata": {
    "tags": []
   },
   "outputs": [
    {
     "name": "stdout",
     "output_type": "stream",
     "text": [
      "48000 12000\n",
      "sample val_indices: [41480 16833 49632 33318  9751 42392 45538 34378 44807 58952 36676 51856\n",
      " 28405 26616 13773 36781 13786 56830 54589 10219]\n"
     ]
    }
   ],
   "source": [
    "print(len(train_indices),len(val_indices))\n",
    "print('sample val_indices:',val_indices[:20])"
   ]
  },
  {
   "cell_type": "code",
   "execution_count": 32,
   "id": "88409113-7917-412b-a4e4-5c98391694f8",
   "metadata": {},
   "outputs": [],
   "source": [
    "#we have randomly shuffled the indices and selected a small portion(20%) as the validation set\n",
    "#we now create a pytorch dataloader for each of these using a \"SubsetRandomSampler\", which samples elements randomly \n",
    "#from a given list of indices,while creating batches of data"
   ]
  },
  {
   "cell_type": "code",
   "execution_count": 33,
   "id": "bda2ff21-af93-4b86-9f84-39185cda651d",
   "metadata": {
    "tags": []
   },
   "outputs": [],
   "source": [
    "from torch.utils.data.sampler import SubsetRandomSampler\n",
    "from torch.utils.data.dataloader import DataLoader"
   ]
  },
  {
   "cell_type": "code",
   "execution_count": 34,
   "id": "c6bdc441-e129-4ca5-9c95-4a43ef948a76",
   "metadata": {
    "tags": []
   },
   "outputs": [],
   "source": [
    "batch_size = 100\n",
    "#define train_sampler and train_loader\n",
    "\n",
    "train_sampler =SubsetRandomSampler(train_indices)\n",
    "train_loader = DataLoader(dataset,batch_size,sampler=train_sampler)\n",
    "\n",
    "#validation_sampler and validation_loader\n",
    "\n",
    "val_sampler = SubsetRandomSampler(val_indices)\n",
    "val_loader = DataLoader(dataset,batch_size,sampler=val_sampler)"
   ]
  },
  {
   "cell_type": "code",
   "execution_count": 35,
   "id": "0fc26d01-b905-431a-b6c0-b321485109e0",
   "metadata": {},
   "outputs": [],
   "source": [
    "#since we now have our train and validation datasets, we will create our model using logistic regression\n",
    "#here we use the same nn.linear class to create the model.Since nn.linear expects each training example to be a vector, \n",
    "#each 1x28x28 image tensor needs to be flattened out into a vector of size 784(28x28),before being passed into the model\n",
    "#the output for each image is vector of size 10,with each element of the vector signifying the probability a particular target\n",
    "#label(ie 0 to 9).The predicted label for an image is simply the one with the highest probability"
   ]
  },
  {
   "cell_type": "code",
   "execution_count": 36,
   "id": "d89b83c2-1c06-42e8-9bfe-8b7bc5c0dadd",
   "metadata": {
    "tags": []
   },
   "outputs": [],
   "source": [
    "import torch.nn as nn\n"
   ]
  },
  {
   "cell_type": "code",
   "execution_count": 37,
   "id": "ba783157-a098-4cad-94a5-918a46ce0fdb",
   "metadata": {
    "tags": []
   },
   "outputs": [],
   "source": [
    "input_size = 28*28\n",
    "num_classes = 10\n",
    "#logistic regression model\n",
    "\n",
    "model = nn.Linear(input_size,num_classes)"
   ]
  },
  {
   "cell_type": "code",
   "execution_count": 38,
   "id": "3c9d5f80-e0f9-4a9f-b97f-610561308766",
   "metadata": {},
   "outputs": [],
   "source": [
    "#this model is quite larger than in our previous model in terms of number of parameters"
   ]
  },
  {
   "cell_type": "code",
   "execution_count": 39,
   "id": "2bcc5701-9b86-42b0-9f11-98d7675982c7",
   "metadata": {
    "tags": []
   },
   "outputs": [
    {
     "name": "stdout",
     "output_type": "stream",
     "text": [
      "torch.Size([10, 784])\n"
     ]
    }
   ],
   "source": [
    "print(model.weight.shape)\n"
   ]
  },
  {
   "cell_type": "code",
   "execution_count": 40,
   "id": "beecbabd-aff5-454e-8143-1c7f0a87fbc7",
   "metadata": {
    "tags": []
   },
   "outputs": [
    {
     "name": "stdout",
     "output_type": "stream",
     "text": [
      "torch.Size([10])\n"
     ]
    }
   ],
   "source": [
    "print(model.bias.shape)"
   ]
  },
  {
   "cell_type": "code",
   "execution_count": 41,
   "id": "25cc3adc-9cd8-48db-a900-e1575fb7cc24",
   "metadata": {},
   "outputs": [],
   "source": [
    "#we then take the first 100 batch of datasets to train our model"
   ]
  },
  {
   "cell_type": "code",
   "execution_count": 42,
   "id": "36bf5fa2-4754-4ff5-b96f-a9af9f1166a5",
   "metadata": {
    "tags": []
   },
   "outputs": [
    {
     "name": "stdout",
     "output_type": "stream",
     "text": [
      "torch.Size([100, 1, 28, 28])\n",
      "tensor([9, 8, 7, 9, 7, 5, 8, 3, 0, 7, 6, 9, 2, 4, 3, 9, 1, 0, 6, 2, 0, 2, 1, 9,\n",
      "        9, 1, 7, 6, 3, 5, 8, 9, 7, 1, 4, 7, 1, 4, 9, 4, 0, 1, 4, 5, 4, 3, 4, 7,\n",
      "        2, 6, 9, 0, 8, 0, 5, 1, 5, 5, 4, 9, 3, 2, 5, 4, 7, 8, 0, 4, 1, 1, 5, 1,\n",
      "        5, 7, 2, 3, 1, 6, 7, 6, 3, 3, 6, 0, 7, 7, 1, 1, 2, 7, 2, 8, 2, 8, 7, 9,\n",
      "        7, 7, 7, 3])\n"
     ]
    },
    {
     "ename": "RuntimeError",
     "evalue": "mat1 and mat2 shapes cannot be multiplied (2800x28 and 784x10)",
     "output_type": "error",
     "traceback": [
      "\u001b[1;31m---------------------------------------------------------------------------\u001b[0m",
      "\u001b[1;31mRuntimeError\u001b[0m                              Traceback (most recent call last)",
      "Cell \u001b[1;32mIn[42], line 4\u001b[0m\n\u001b[0;32m      2\u001b[0m \u001b[38;5;28mprint\u001b[39m(image\u001b[38;5;241m.\u001b[39mshape)\n\u001b[0;32m      3\u001b[0m \u001b[38;5;28mprint\u001b[39m(label)\n\u001b[1;32m----> 4\u001b[0m output \u001b[38;5;241m=\u001b[39m model(image)\n\u001b[0;32m      5\u001b[0m \u001b[38;5;28;01mbreak\u001b[39;00m\n",
      "File \u001b[1;32m~\\anaconda3\\Lib\\site-packages\\torch\\nn\\modules\\module.py:1501\u001b[0m, in \u001b[0;36mModule._call_impl\u001b[1;34m(self, *args, **kwargs)\u001b[0m\n\u001b[0;32m   1496\u001b[0m \u001b[38;5;66;03m# If we don't have any hooks, we want to skip the rest of the logic in\u001b[39;00m\n\u001b[0;32m   1497\u001b[0m \u001b[38;5;66;03m# this function, and just call forward.\u001b[39;00m\n\u001b[0;32m   1498\u001b[0m \u001b[38;5;28;01mif\u001b[39;00m \u001b[38;5;129;01mnot\u001b[39;00m (\u001b[38;5;28mself\u001b[39m\u001b[38;5;241m.\u001b[39m_backward_hooks \u001b[38;5;129;01mor\u001b[39;00m \u001b[38;5;28mself\u001b[39m\u001b[38;5;241m.\u001b[39m_backward_pre_hooks \u001b[38;5;129;01mor\u001b[39;00m \u001b[38;5;28mself\u001b[39m\u001b[38;5;241m.\u001b[39m_forward_hooks \u001b[38;5;129;01mor\u001b[39;00m \u001b[38;5;28mself\u001b[39m\u001b[38;5;241m.\u001b[39m_forward_pre_hooks\n\u001b[0;32m   1499\u001b[0m         \u001b[38;5;129;01mor\u001b[39;00m _global_backward_pre_hooks \u001b[38;5;129;01mor\u001b[39;00m _global_backward_hooks\n\u001b[0;32m   1500\u001b[0m         \u001b[38;5;129;01mor\u001b[39;00m _global_forward_hooks \u001b[38;5;129;01mor\u001b[39;00m _global_forward_pre_hooks):\n\u001b[1;32m-> 1501\u001b[0m     \u001b[38;5;28;01mreturn\u001b[39;00m forward_call(\u001b[38;5;241m*\u001b[39margs, \u001b[38;5;241m*\u001b[39m\u001b[38;5;241m*\u001b[39mkwargs)\n\u001b[0;32m   1502\u001b[0m \u001b[38;5;66;03m# Do not call functions when jit is used\u001b[39;00m\n\u001b[0;32m   1503\u001b[0m full_backward_hooks, non_full_backward_hooks \u001b[38;5;241m=\u001b[39m [], []\n",
      "File \u001b[1;32m~\\anaconda3\\Lib\\site-packages\\torch\\nn\\modules\\linear.py:114\u001b[0m, in \u001b[0;36mLinear.forward\u001b[1;34m(self, input)\u001b[0m\n\u001b[0;32m    113\u001b[0m \u001b[38;5;28;01mdef\u001b[39;00m \u001b[38;5;21mforward\u001b[39m(\u001b[38;5;28mself\u001b[39m, \u001b[38;5;28minput\u001b[39m: Tensor) \u001b[38;5;241m-\u001b[39m\u001b[38;5;241m>\u001b[39m Tensor:\n\u001b[1;32m--> 114\u001b[0m     \u001b[38;5;28;01mreturn\u001b[39;00m F\u001b[38;5;241m.\u001b[39mlinear(\u001b[38;5;28minput\u001b[39m, \u001b[38;5;28mself\u001b[39m\u001b[38;5;241m.\u001b[39mweight, \u001b[38;5;28mself\u001b[39m\u001b[38;5;241m.\u001b[39mbias)\n",
      "\u001b[1;31mRuntimeError\u001b[0m: mat1 and mat2 shapes cannot be multiplied (2800x28 and 784x10)"
     ]
    }
   ],
   "source": [
    "for image,label in train_loader:\n",
    "    print(image.shape)\n",
    "    print(label)\n",
    "    output = model(image)\n",
    "    break"
   ]
  },
  {
   "cell_type": "code",
   "execution_count": null,
   "id": "7ebda123-1a2c-4ef9-bd0d-3d294b6f7614",
   "metadata": {},
   "outputs": [],
   "source": [
    "#the above procedure led to an error because our input data does not have the right shape.Our\n",
    "#images are of the shape 1x28x28 but we need them to be vectors of size 784(28x28).\n",
    "#we therefore use the .reshape method of a tensor to view the image of a flattened tensor(vector),\n",
    "#without changing the underlying data.we do this by defining a class that extends the nn.Module from pytorch."
   ]
  },
  {
   "cell_type": "code",
   "execution_count": 43,
   "id": "d23f9e17-0433-484d-9ecc-801b31b3fb01",
   "metadata": {
    "tags": []
   },
   "outputs": [
    {
     "name": "stdout",
     "output_type": "stream",
     "text": [
      "<generator object Module.parameters at 0x0000029566A19380>\n"
     ]
    }
   ],
   "source": [
    "\n",
    "class MnistModel(nn.Module):\n",
    "    def __init__(self):\n",
    "        super().__init__()\n",
    "        self.linear = nn.Linear(input_size,num_classes)\n",
    "    def forward(self,xb):\n",
    "        xb = xb.reshape(-1,784)\n",
    "        out = self.linear(xb)\n",
    "        return out\n",
    "model = MnistModel()\n",
    "\n",
    "print(model.parameters())\n",
    "\n"
   ]
  },
  {
   "cell_type": "code",
   "execution_count": 44,
   "id": "f25328b4-2482-4ae0-9f6b-4ddbe5d88dcc",
   "metadata": {
    "tags": []
   },
   "outputs": [
    {
     "name": "stdout",
     "output_type": "stream",
     "text": [
      "torch.Size([10, 784]) torch.Size([10])\n"
     ]
    },
    {
     "data": {
      "text/plain": [
       "[Parameter containing:\n",
       " tensor([[-0.0195,  0.0219,  0.0190,  ..., -0.0048,  0.0051,  0.0046],\n",
       "         [ 0.0170,  0.0203, -0.0315,  ..., -0.0289, -0.0110,  0.0106],\n",
       "         [ 0.0073, -0.0231, -0.0310,  ..., -0.0149,  0.0054,  0.0252],\n",
       "         ...,\n",
       "         [ 0.0135, -0.0338, -0.0163,  ..., -0.0282, -0.0019, -0.0354],\n",
       "         [-0.0125,  0.0173, -0.0203,  ..., -0.0285,  0.0343, -0.0098],\n",
       "         [-0.0159, -0.0063,  0.0174,  ..., -0.0314, -0.0212,  0.0083]],\n",
       "        requires_grad=True),\n",
       " Parameter containing:\n",
       " tensor([-0.0108, -0.0048,  0.0046, -0.0084,  0.0177, -0.0288, -0.0188, -0.0071,\n",
       "          0.0256, -0.0344], requires_grad=True)]"
      ]
     },
     "execution_count": 44,
     "metadata": {},
     "output_type": "execute_result"
    }
   ],
   "source": [
    "print(model.linear.weight.shape,model.linear.bias.shape)\n",
    "list(model.parameters())\n"
   ]
  },
  {
   "cell_type": "code",
   "execution_count": 45,
   "id": "ba455e45-e393-4ff9-9bd2-389ad5be8198",
   "metadata": {},
   "outputs": [
    {
     "name": "stdout",
     "output_type": "stream",
     "text": [
      "outputs.shape: torch.Size([100, 10])\n",
      "sample outputs:\n",
      " tensor([[-0.0553, -0.0398,  0.1611, -0.1766,  0.1930, -0.0501, -0.0731, -0.2343,\n",
      "         -0.2230,  0.4526],\n",
      "        [ 0.0201,  0.0846,  0.3769, -0.0413,  0.2072, -0.0846,  0.0033, -0.0280,\n",
      "         -0.1457, -0.1204]])\n"
     ]
    }
   ],
   "source": [
    "for image,labels in train_loader:\n",
    "    outputs = model(image)\n",
    "    break\n",
    "    \n",
    "print('outputs.shape:',outputs.shape)\n",
    "print('sample outputs:\\n',outputs[:2].data)"
   ]
  },
  {
   "cell_type": "code",
   "execution_count": null,
   "id": "8f34474a-881d-4c31-a9bc-06d1b0f8bc45",
   "metadata": {},
   "outputs": [],
   "source": [
    "#for each of the 100 input images, we get 10 outputs, one for each class.As discussed earlier,we'd like\n",
    "#these outputs to represent probabilities,but for that to happen,the element of each output row must lie between0 and 1\n",
    "#which is not so in this case. To convert the output rows into probabilities,we use the softmax function,\n",
    "#will write the formula in my notebook"
   ]
  },
  {
   "cell_type": "code",
   "execution_count": 46,
   "id": "e3194368-2ff6-4913-93ed-ea85d724fa24",
   "metadata": {},
   "outputs": [
    {
     "name": "stdout",
     "output_type": "stream",
     "text": [
      "sample probabilities:\n",
      " tensor([[0.0930, 0.0944, 0.1154, 0.0824, 0.1192, 0.0935, 0.0913, 0.0777, 0.0786,\n",
      "         0.1545],\n",
      "        [0.0981, 0.1046, 0.1401, 0.0922, 0.1183, 0.0883, 0.0965, 0.0935, 0.0831,\n",
      "         0.0852]])\n",
      "sum: 1.0000001192092896\n"
     ]
    }
   ],
   "source": [
    "import torch.nn.functional as f\n",
    "probs = f.softmax(outputs,dim=1)\n",
    "#look at sample probabilities\n",
    "print('sample probabilities:\\n',probs[:2].data)\n",
    "\n",
    "#add up the probabilities of an output row\n",
    "print('sum:',torch.sum(probs[0]).item())"
   ]
  },
  {
   "cell_type": "code",
   "execution_count": null,
   "id": "f6cdaafd-d2e3-46d6-a667-bd50801aad38",
   "metadata": {},
   "outputs": [],
   "source": [
    "#from the sample probabilities above, the model says there is a 0.08 prob that the image is a 1,\n",
    "#0.10 that it is a 2 and so on, as there are ten outputs,each in a row.\n",
    "#we can finally determine the predicted label for each image by simply \n",
    "#choosing the index of the element with highest probability in each output row.This is done using the torch.max function \n",
    "#which returns the largest element and index of the largest element along a particular dimension of a tensor"
   ]
  },
  {
   "cell_type": "code",
   "execution_count": 47,
   "id": "9d9c238a-136e-4fed-9544-0efcb62fabaa",
   "metadata": {
    "tags": []
   },
   "outputs": [
    {
     "name": "stdout",
     "output_type": "stream",
     "text": [
      "tensor([9, 2, 6, 9, 7, 2, 4, 4, 5, 2, 9, 2, 4, 0, 9, 5, 3, 0, 5, 4, 4, 0, 2, 4,\n",
      "        9, 9, 4, 4, 4, 5, 2, 1, 5, 1, 3, 9, 9, 4, 9, 9, 4, 4, 3, 0, 4, 4, 2, 2,\n",
      "        9, 2, 4, 7, 5, 2, 2, 4, 9, 2, 0, 7, 9, 0, 5, 7, 9, 4, 9, 1, 3, 4, 4, 9,\n",
      "        4, 9, 7, 6, 4, 5, 4, 0, 4, 4, 4, 9, 7, 2, 4, 5, 5, 4, 3, 9, 5, 0, 4, 7,\n",
      "        5, 2, 5, 4])\n",
      "tensor([0.1545, 0.1401, 0.1283, 0.1328, 0.1166, 0.1365, 0.1509, 0.1539, 0.1449,\n",
      "        0.1250, 0.1269, 0.1327, 0.1410, 0.1257, 0.1144, 0.1202, 0.1212, 0.1105,\n",
      "        0.1272, 0.1279, 0.1566, 0.1353, 0.1231, 0.1460, 0.1236, 0.1440, 0.1266,\n",
      "        0.1593, 0.1174, 0.1450, 0.1418, 0.1564, 0.1300, 0.1183, 0.1193, 0.1272,\n",
      "        0.1416, 0.1204, 0.1205, 0.1360, 0.1292, 0.1309, 0.1331, 0.1304, 0.1206,\n",
      "        0.1202, 0.1354, 0.1457, 0.1101, 0.1230, 0.1391, 0.1359, 0.1398, 0.1260,\n",
      "        0.1374, 0.1336, 0.1317, 0.1266, 0.1336, 0.1332, 0.1347, 0.1218, 0.1409,\n",
      "        0.1348, 0.1179, 0.1284, 0.1213, 0.1150, 0.1320, 0.1734, 0.1280, 0.1328,\n",
      "        0.1133, 0.1220, 0.1263, 0.1199, 0.1362, 0.1292, 0.1282, 0.1198, 0.1320,\n",
      "        0.1175, 0.1443, 0.1417, 0.1205, 0.1425, 0.1275, 0.1490, 0.1257, 0.1169,\n",
      "        0.1252, 0.1229, 0.1279, 0.1282, 0.1661, 0.1452, 0.1285, 0.1390, 0.1258,\n",
      "        0.1254], grad_fn=<MaxBackward0>)\n"
     ]
    }
   ],
   "source": [
    "max_probs,preds = torch.max(probs,dim=1)\n",
    "print(preds)\n",
    "print(max_probs)"
   ]
  },
  {
   "cell_type": "code",
   "execution_count": null,
   "id": "339a13e0-b002-44f5-9b9b-832bde2ba1dc",
   "metadata": {
    "tags": []
   },
   "outputs": [],
   "source": [
    "preds==labels"
   ]
  },
  {
   "cell_type": "code",
   "execution_count": 48,
   "id": "88cdf3cf-2982-4ebe-99d5-99c4a0bdfdad",
   "metadata": {
    "tags": []
   },
   "outputs": [],
   "source": [
    "def accuracy(preds,labels):\n",
    "    return torch.sum(preds==labels).item()/len(preds)"
   ]
  },
  {
   "cell_type": "code",
   "execution_count": 49,
   "id": "a49b4a5e-7ba7-4f3b-bbe1-f296aa13b341",
   "metadata": {
    "tags": []
   },
   "outputs": [
    {
     "data": {
      "text/plain": [
       "0.11"
      ]
     },
     "execution_count": 49,
     "metadata": {},
     "output_type": "execute_result"
    }
   ],
   "source": [
    "accuracy(preds,labels)"
   ]
  },
  {
   "cell_type": "code",
   "execution_count": null,
   "id": "6af86d7d-6b66-442b-b75c-2fae60da071c",
   "metadata": {},
   "outputs": [],
   "source": [
    "#we can see that our prediction above is very different from our actual labels above and this is because \n",
    "#we randomly initialized weights and biases,hence we train the model using gradient decent"
   ]
  },
  {
   "cell_type": "code",
   "execution_count": null,
   "id": "acb7e3dc-d55a-4329-b80c-05371b413e67",
   "metadata": {},
   "outputs": [],
   "source": [
    "#EVALUATING METRICS AND LOSS FUNCTION "
   ]
  },
  {
   "cell_type": "code",
   "execution_count": 50,
   "id": "738c3f76-6527-4bf3-9786-25223fbc16d8",
   "metadata": {
    "tags": []
   },
   "outputs": [],
   "source": [
    "loss_fn = f.cross_entropy"
   ]
  },
  {
   "cell_type": "code",
   "execution_count": 51,
   "id": "6793d8ec-d0ac-438b-97ec-4a9efa4b3793",
   "metadata": {
    "tags": []
   },
   "outputs": [
    {
     "name": "stdout",
     "output_type": "stream",
     "text": [
      "tensor(2.3039, grad_fn=<NllLossBackward0>)\n"
     ]
    }
   ],
   "source": [
    "loss = loss_fn(outputs,labels)\n",
    "print(loss)\n"
   ]
  },
  {
   "cell_type": "code",
   "execution_count": null,
   "id": "83dccd09-93b4-4224-b66d-e0606e514ffd",
   "metadata": {},
   "outputs": [],
   "source": [
    "#since the cross entropy is the negative log of the predicted probability \n",
    "#of the correct label averaged over all training samples,one way to inteprete the resulting number,eg;\n",
    "#2.23 is to look at e^-2.3 which is around 0.1 as the predicted probability of the correct label,on average.\n",
    "#the lower  the loss, the better the model\n",
    "#the loss is telling us that the model is predicting the current class is 10% probable, \n",
    "#but we want to push it ti more than 50% probable hence we optimize it"
   ]
  },
  {
   "cell_type": "code",
   "execution_count": 52,
   "id": "b95ea9b7-952f-448f-9201-55adf70ea6d6",
   "metadata": {
    "tags": []
   },
   "outputs": [],
   "source": [
    "learning_rate = 0.001\n",
    "optimizer = torch.optim.SGD(model.parameters(),lr=learning_rate)"
   ]
  },
  {
   "cell_type": "code",
   "execution_count": null,
   "id": "b7a3ac76-b9cb-493c-906b-127614c116a9",
   "metadata": {},
   "outputs": [],
   "source": [
    "#MODEL TRAINING"
   ]
  },
  {
   "cell_type": "code",
   "execution_count": 53,
   "id": "09697729-1756-4f27-ad37-2653b4f98e44",
   "metadata": {
    "tags": []
   },
   "outputs": [],
   "source": [
    "#repeat for given num of epochs\n",
    "def loss_batch(model,loss_fn,xb,yb,opt=None,metric=None):\n",
    "\n",
    "        preds = model(xb)\n",
    "        loss = loss_fn(preds,yb)\n",
    "        if opt is not None:\n",
    "            #compute gradient of loss\n",
    "            loss.backward()\n",
    "            #update predictions using gradients\n",
    "            opt.step()\n",
    "            #reset gradients to zero\n",
    "            opt.zero_grad()\n",
    "            metric_result = None\n",
    "        if metric is not None:\n",
    "                #compute metric\n",
    "                metric_result = metric(preds,yb)\n",
    "                \n",
    "        return loss.item(),len(xb),metric_result\n",
    "                \n",
    "            \n",
    "    \n",
    "            \n",
    "                  \n",
    "    "
   ]
  },
  {
   "cell_type": "code",
   "execution_count": null,
   "id": "a51bad6f-ad95-416e-912c-3ac2b9a633a9",
   "metadata": {},
   "outputs": [],
   "source": [
    "#next, we define an evaluate function that calculates the overall loss for the validation set"
   ]
  },
  {
   "cell_type": "code",
   "execution_count": 56,
   "id": "d087bf81-c6ac-4407-8343-1524de665650",
   "metadata": {
    "tags": []
   },
   "outputs": [],
   "source": [
    "def evaluate(model,loss_fn,valid_dl,metric=None):\n",
    "    with torch.no_grad():\n",
    "        #pass each batch through the model\n",
    "        results = [loss_batch(model,loss_fn,xb,yb,metric=metric) for xb,yb in valid_dl]\n",
    "        #separate losses,counts and metrics\n",
    "        losses,nums,metrics = zip(*results)\n",
    "        #total size of the dataset\n",
    "        total = np.sum(nums)\n",
    "        #average loss across batches\n",
    "        avg_loss = np.sum(np.multiply(losses,nums))/total\n",
    "        avg_metric = None\n",
    "    if metric is not None:\n",
    "        #average of metric across batches\n",
    "        avg_metric = np.sum(np.multiply(metrics,nums))/total\n",
    "    return avg_loss,total,avg_metric\n",
    "        "
   ]
  },
  {
   "cell_type": "code",
   "execution_count": null,
   "id": "d0239922-0ad4-45ef-a0fd-408851669a7b",
   "metadata": {},
   "outputs": [],
   "source": [
    "#we also need to redefine the accuracy method to operate on an entire batch of outputs directly so that\n",
    "#we can use it as a metric in the fit function"
   ]
  },
  {
   "cell_type": "code",
   "execution_count": 54,
   "id": "834c026a-544e-4cab-ad5d-3cea14dae712",
   "metadata": {
    "tags": []
   },
   "outputs": [],
   "source": [
    "def accuracy(outputs,labels):\n",
    "    max_probs,preds = torch.max(outputs,dim=1)\n",
    "    return torch.sum(preds==labels).item()/len(preds)"
   ]
  },
  {
   "cell_type": "code",
   "execution_count": null,
   "id": "588b26ba-c7a7-4cca-b64d-9c61510fab23",
   "metadata": {},
   "outputs": [],
   "source": [
    "#lets see how the model performs on the validation set with the initial set of weight and biases"
   ]
  },
  {
   "cell_type": "code",
   "execution_count": 57,
   "id": "ecad0193-bc28-45b9-84b4-bf61ccaf832c",
   "metadata": {
    "tags": []
   },
   "outputs": [
    {
     "name": "stdout",
     "output_type": "stream",
     "text": [
      "loss:2.3036,Accuracy:0.0976\n"
     ]
    }
   ],
   "source": [
    "val_loss,total,val_acc = evaluate(model,loss_fn,val_loader,metric=accuracy)\n",
    "print('loss:{:.4f},Accuracy:{:.4f}'.format(val_loss,val_acc))\n"
   ]
  },
  {
   "cell_type": "code",
   "execution_count": null,
   "id": "f2c0316b-da78-4da7-be7c-e200561370e7",
   "metadata": {},
   "outputs": [],
   "source": [
    "#we can see that the accuracy and the loss of teh validation dataset is almost equal to that in te training dataset\n",
    "#this is a good sign because the metrics of the training set should match with that\n",
    "#in the validation set for you to get a good model"
   ]
  },
  {
   "cell_type": "code",
   "execution_count": null,
   "id": "eda9e7bd-76ab-4dea-aaa6-418fa625286f",
   "metadata": {},
   "outputs": [],
   "source": [
    "#we can now define the fit function to train our model"
   ]
  },
  {
   "cell_type": "code",
   "execution_count": 58,
   "id": "2dd1ff30-bc6a-4f20-a4fb-193791190c53",
   "metadata": {
    "tags": []
   },
   "outputs": [],
   "source": [
    "def fit(epochs,model,loss_fn,opt,train_dl,valid_dl,metric=None):\n",
    "    for epoch in range(epochs):\n",
    "        #training\n",
    "        for xb,yb in train_dl:\n",
    "            loss,_,_ = loss_batch(model,loss_fn,xb,yb,opt,metric=accuracy)\n",
    "            #evaluation\n",
    "            result = evaluate(model,loss_fn,valid_dl,metric)\n",
    "            val_loss,total,val_metric = result\n",
    "            #print progress\n",
    "    if metric is None:\n",
    "        print('Epoch[{}/{}],Loss:{:.4f}'.format(epoch+1,epochs,val_loss))\n",
    "    else:\n",
    "            print('Epoch[{}/{}],Loss:{:.4f},{}:{:.4f}'.format(epoch+1,epochs,val_loss,metric.__name__,val_loss))\n",
    "            \n",
    "        \n",
    "              \n",
    "            \n",
    "        \n",
    "        \n",
    "        "
   ]
  },
  {
   "cell_type": "code",
   "execution_count": null,
   "id": "43a28848-8367-4159-9aab-5a719e687a95",
   "metadata": {},
   "outputs": [],
   "source": [
    "#now we redefine the model and the optimizer"
   ]
  },
  {
   "cell_type": "code",
   "execution_count": 59,
   "id": "acb7cb6e-f919-46ab-a6ca-28a101633bdb",
   "metadata": {
    "tags": []
   },
   "outputs": [],
   "source": [
    "model = MnistModel()\n",
    "optimizer = torch.optim.SGD(model.parameters(),lr=learning_rate)\n"
   ]
  },
  {
   "cell_type": "code",
   "execution_count": 61,
   "id": "9ba80a2e-05cb-474b-98f9-f285ecceed24",
   "metadata": {
    "tags": []
   },
   "outputs": [
    {
     "name": "stdout",
     "output_type": "stream",
     "text": [
      "Epoch[5/5],Loss:0.8175,accuracy:0.8175\n"
     ]
    }
   ],
   "source": [
    "fit(5,model,f.cross_entropy,optimizer,train_loader,val_loader,accuracy)\n"
   ]
  },
  {
   "cell_type": "code",
   "execution_count": null,
   "id": "5ca156b1-592b-4473-81d7-1878de5a58fc",
   "metadata": {},
   "outputs": [],
   "source": [
    "# our model has been able to reach an accuracy of over 80% on the validation set with just five epochs of training.we \n",
    "#can improve the model by training further."
   ]
  },
  {
   "cell_type": "code",
   "execution_count": null,
   "id": "08ad0bb5-24a0-451d-8d8e-0f36f446eb82",
   "metadata": {},
   "outputs": [],
   "source": [
    "#we now test our model with some images from the predefined test dataset of10000 images"
   ]
  },
  {
   "cell_type": "code",
   "execution_count": 62,
   "id": "0e92725b-c4a7-43a5-903e-48c3d6a9f37a",
   "metadata": {
    "tags": []
   },
   "outputs": [],
   "source": [
    "#define test dataset\n",
    "test_dataset = MNIST(root='data/',train=False,transform=transforms.ToTensor())"
   ]
  },
  {
   "cell_type": "code",
   "execution_count": 63,
   "id": "f827bebc-da88-4b90-a044-5ca734b5a7be",
   "metadata": {
    "tags": []
   },
   "outputs": [
    {
     "name": "stdout",
     "output_type": "stream",
     "text": [
      "torch.Size([1, 28, 28])\n",
      "7\n"
     ]
    },
    {
     "data": {
      "image/png": "[encoded data removed]",
      "text/plain": [
       "<Figure size 640x480 with 1 Axes>"
      ]
     },
     "metadata": {},
     "output_type": "display_data"
    }
   ],
   "source": [
    "img,label=test_dataset[0]\n",
    "plt.imshow(img[0],cmap='gray')\n",
    "print(img.shape)\n",
    "print(label)\n"
   ]
  },
  {
   "cell_type": "code",
   "execution_count": 64,
   "id": "4ccbf536-ddab-4427-a3f1-040d108fc224",
   "metadata": {
    "tags": []
   },
   "outputs": [
    {
     "data": {
      "text/plain": [
       "torch.Size([1, 1, 28, 28])"
      ]
     },
     "execution_count": 64,
     "metadata": {},
     "output_type": "execute_result"
    }
   ],
   "source": [
    "#we then convert the image into a batch form,containing a single image, using the unsqueez method\n",
    "img.unsqueeze(0).shape"
   ]
  },
  {
   "cell_type": "code",
   "execution_count": null,
   "id": "f15d6250-1bd3-4b59-a3af-dfc8496ee987",
   "metadata": {},
   "outputs": [],
   "source": [
    "#let us then define a function predict_image that returns the predicted label for a single image tensor"
   ]
  },
  {
   "cell_type": "code",
   "execution_count": 67,
   "id": "6dafcd9e-cce2-44fc-a3ff-2281f4522e6b",
   "metadata": {
    "tags": []
   },
   "outputs": [],
   "source": [
    "def predict_image(img,model):\n",
    "    xb = img.unsqueeze(0)\n",
    "    yb = model(xb)\n",
    "    max_probs,preds = torch.max(yb,dim=1)\n",
    "    return preds[0].item()"
   ]
  },
  {
   "cell_type": "code",
   "execution_count": null,
   "id": "97572fd9-fd6a-4591-ae7d-fd6e4be1c0fa",
   "metadata": {},
   "outputs": [],
   "source": [
    "#let  us try it out with a few images"
   ]
  },
  {
   "cell_type": "code",
   "execution_count": 66,
   "id": "5a578b2c-0ddb-4144-8e51-62fd8edc67b9",
   "metadata": {
    "tags": []
   },
   "outputs": [
    {
     "name": "stdout",
     "output_type": "stream",
     "text": [
      "label: 7 ,predicted: 7\n"
     ]
    },
    {
     "data": {
      "image/png": "[encoded data removed]",
      "text/plain": [
       "<Figure size 640x480 with 1 Axes>"
      ]
     },
     "metadata": {},
     "output_type": "display_data"
    }
   ],
   "source": [
    "img,label = test_dataset[0]\n",
    "plt.imshow(img[0],cmap='gray')\n",
    "print('label:',label,',predicted:',predict_image(img,model))"
   ]
  },
  {
   "cell_type": "code",
   "execution_count": 68,
   "id": "9231580e-c931-480e-bf9a-4eee7058607e",
   "metadata": {},
   "outputs": [
    {
     "name": "stdout",
     "output_type": "stream",
     "text": [
      "label: 0 ,predicted: 0\n"
     ]
    },
    {
     "data": {
      "image/png": "[encoded data removed]",
      "text/plain": [
       "<Figure size 640x480 with 1 Axes>"
      ]
     },
     "metadata": {},
     "output_type": "display_data"
    }
   ],
   "source": [
    "img,label = test_dataset[10]\n",
    "plt.imshow(img[0],cmap='gray')\n",
    "print('label:',label,',predicted:',predict_image(img,model))"
   ]
  },
  {
   "cell_type": "code",
   "execution_count": 69,
   "id": "7ce242e7-c2d3-4727-bc02-6dd5a47b82dd",
   "metadata": {},
   "outputs": [
    {
     "name": "stdout",
     "output_type": "stream",
     "text": [
      "label: 9 ,predicted: 9\n"
     ]
    },
    {
     "data": {
      "image/png": "[encoded data removed]",
      "text/plain": [
       "<Figure size 640x480 with 1 Axes>"
      ]
     },
     "metadata": {},
     "output_type": "display_data"
    }
   ],
   "source": [
    "img,label = test_dataset[193]\n",
    "plt.imshow(img[0],cmap='gray')\n",
    "print('label:',label,',predicted:',predict_image(img,model))"
   ]
  },
  {
   "cell_type": "code",
   "execution_count": 70,
   "id": "2cbb0b9d-d7f9-44ad-be8b-3174ad8e3103",
   "metadata": {
    "tags": []
   },
   "outputs": [
    {
     "name": "stdout",
     "output_type": "stream",
     "text": [
      "label: 8 ,predicted: 3\n"
     ]
    },
    {
     "data": {
      "image/png": "[encoded data removed]",
      "text/plain": [
       "<Figure size 640x480 with 1 Axes>"
      ]
     },
     "metadata": {},
     "output_type": "display_data"
    }
   ],
   "source": [
    "img,label = test_dataset[1893]\n",
    "plt.imshow(img[0],cmap='gray')\n",
    "print('label:',label,',predicted:',predict_image(img,model))"
   ]
  },
  {
   "cell_type": "code",
   "execution_count": 73,
   "id": "0edf69c4-abd6-4077-b6db-a8dac87d5856",
   "metadata": {
    "tags": []
   },
   "outputs": [
    {
     "name": "stdout",
     "output_type": "stream",
     "text": [
      "Collecting jovianNote: you may need to restart the kernel to use updated packages.\n",
      "\n",
      "  Using cached jovian-0.2.47-py2.py3-none-any.whl (68 kB)\n",
      "Requirement already satisfied: requests in c:\\users\\pc\\anaconda3\\lib\\site-packages (from jovian) (2.31.0)\n",
      "Collecting uuid (from jovian)\n",
      "  Downloading uuid-1.30.tar.gz (5.8 kB)\n",
      "  Preparing metadata (setup.py): started\n",
      "  Preparing metadata (setup.py): finished with status 'done'\n",
      "Requirement already satisfied: pyyaml in c:\\users\\pc\\anaconda3\\lib\\site-packages (from jovian) (6.0)\n",
      "Requirement already satisfied: click in c:\\users\\pc\\anaconda3\\lib\\site-packages (from jovian) (8.0.4)\n",
      "Requirement already satisfied: colorama in c:\\users\\pc\\anaconda3\\lib\\site-packages (from click->jovian) (0.4.6)\n",
      "Requirement already satisfied: charset-normalizer<4,>=2 in c:\\users\\pc\\anaconda3\\lib\\site-packages (from requests->jovian) (2.0.4)\n",
      "Requirement already satisfied: idna<4,>=2.5 in c:\\users\\pc\\anaconda3\\lib\\site-packages (from requests->jovian) (3.4)\n",
      "Requirement already satisfied: urllib3<3,>=1.21.1 in c:\\users\\pc\\anaconda3\\lib\\site-packages (from requests->jovian) (1.26.16)\n",
      "Requirement already satisfied: certifi>=2017.4.17 in c:\\users\\pc\\anaconda3\\lib\\site-packages (from requests->jovian) (2023.7.22)\n",
      "Building wheels for collected packages: uuid\n",
      "  Building wheel for uuid (setup.py): started\n",
      "  Building wheel for uuid (setup.py): finished with status 'done'\n",
      "  Created wheel for uuid: filename=uuid-1.30-py3-none-any.whl size=6484 sha256=65f287011d1b6936e70bce2b9d08bae5296df9ccc71e39671c459727c0004ed0\n",
      "  Stored in directory: c:\\users\\pc\\appdata\\local\\pip\\cache\\wheels\\e0\\01\\df\\bd20df409bd81f8b99e6cd343c5f49731dc0a20eefefdafae0\n",
      "Successfully built uuid\n",
      "Installing collected packages: uuid, jovian\n",
      "Successfully installed jovian-0.2.47 uuid-1.30\n"
     ]
    }
   ],
   "source": [
    "pip install jovian --upgrade\n"
   ]
  },
  {
   "cell_type": "code",
   "execution_count": 2,
   "id": "be81d2e6-e90a-4023-9726-2c9f04a487f4",
   "metadata": {
    "tags": []
   },
   "outputs": [
    {
     "data": {
      "application/javascript": [
       "if (window.IPython && IPython.notebook.kernel) IPython.notebook.kernel.execute('jovian.utils.jupyter.get_notebook_name_saved = lambda: \"' + IPython.notebook.notebook_name + '\"')"
      ],
      "text/plain": [
       "<IPython.core.display.Javascript object>"
      ]
     },
     "metadata": {},
     "output_type": "display_data"
    }
   ],
   "source": [
    "import jovian"
   ]
  },
  {
   "cell_type": "code",
   "execution_count": 3,
   "id": "e053ee52-96e4-4cb7-9bee-14aabcd187a6",
   "metadata": {
    "collapsed": true,
    "jupyter": {
     "outputs_hidden": true
    },
    "tags": []
   },
   "outputs": [
    {
     "ename": "NameError",
     "evalue": "name 'DataLoader' is not defined",
     "output_type": "error",
     "traceback": [
      "\u001b[1;31m---------------------------------------------------------------------------\u001b[0m",
      "\u001b[1;31mNameError\u001b[0m                                 Traceback (most recent call last)",
      "Cell \u001b[1;32mIn[3], line 1\u001b[0m\n\u001b[1;32m----> 1\u001b[0m test_loader \u001b[38;5;241m=\u001b[39m DataLoader(test_dataset,batch_size\u001b[38;5;241m=\u001b[39m\u001b[38;5;241m200\u001b[39m)\n",
      "\u001b[1;31mNameError\u001b[0m: name 'DataLoader' is not defined"
     ]
    }
   ],
   "source": [
    "test_loader = DataLoader(test_dataset,batch_size=200)"
   ]
  },
  {
   "cell_type": "code",
   "execution_count": null,
   "id": "d9ea45fc-772d-48ce-930f-3806e8c6a3d8",
   "metadata": {
    "tags": []
   },
   "outputs": [],
   "source": [
    "test_loss,total,test_acc = evaluate(model,loss_fn,test_loader,metric=accuracy)\n",
    "print('loss:{:.4f},accuracy:{:.4f}'.format(test_loss,test_acc))\n"
   ]
  },
  {
   "cell_type": "code",
   "execution_count": 7,
   "id": "39ecc9e2-4be6-4e67-a225-2b429eb63c71",
   "metadata": {
    "tags": []
   },
   "outputs": [
    {
     "data": {
      "application/javascript": [
       "window.require && require([\"base/js/namespace\"],function(Jupyter){Jupyter.notebook.save_checkpoint()})"
      ],
      "text/plain": [
       "<IPython.core.display.Javascript object>"
      ]
     },
     "metadata": {},
     "output_type": "display_data"
    },
    {
     "name": "stdout",
     "output_type": "stream",
     "text": [
      "[jovian] Please enter your API key ( from https://jovian.com/ ):\u001b[0m\n",
      "API KEY:"
     ]
    },
    {
     "name": "stdin",
     "output_type": "stream",
     "text": [
      "  ········\n"
     ]
    },
    {
     "name": "stdout",
     "output_type": "stream",
     "text": [
      "[jovian] Committed successfully! https://jovian.com/danyal-hamza/untitled6\u001b[0m\n"
     ]
    },
    {
     "data": {
      "text/plain": [
       "'https://jovian.com/danyal-hamza/untitled6'"
      ]
     },
     "execution_count": 7,
     "metadata": {},
     "output_type": "execute_result"
    }
   ],
   "source": [
    "jovian.commit(filename='Untitled6.ipynb')"
   ]
  },
  {
   "cell_type": "code",
   "execution_count": null,
   "id": "9c233b5e-9af8-459f-a5fe-3995d95bd2da",
   "metadata": {},
   "outputs": [],
   "source": [
    "#we then find the overall loss and accuracy on the test data,it should be similar to that in the validation set"
   ]
  },
  {
   "cell_type": "code",
   "execution_count": null,
   "id": "a9ba1739-96d8-4b42-b247-fcb80db08682",
   "metadata": {},
   "outputs": [],
   "source": []
  }
 ],
 "metadata": {
  "kernelspec": {
   "display_name": "Python 3 (ipykernel)",
   "language": "python",
   "name": "python3"
  },
  "language_info": {
   "codemirror_mode": {
    "name": "ipython",
    "version": 3
   },
   "file_extension": ".py",
   "mimetype": "text/x-python",
   "name": "python",
   "nbconvert_exporter": "python",
   "pygments_lexer": "ipython3",
   "version": "3.11.4"
  }
 },
 "nbformat": 4,
 "nbformat_minor": 5
}
