{
 "cells": [
  {
   "cell_type": "code",
   "execution_count": 1,
   "id": "35fe709e-dca4-44f5-adb4-faab74a9916a",
   "metadata": {
    "collapsed": true,
    "jupyter": {
     "outputs_hidden": true
    },
    "tags": []
   },
   "outputs": [
    {
     "name": "stdout",
     "output_type": "stream",
     "text": [
      "Requirement already satisfied: yfinance in c:\\users\\pc\\anaconda3\\lib\\site-packages (0.2.28)\n",
      "Requirement already satisfied: pandas>=1.3.0 in c:\\users\\pc\\anaconda3\\lib\\site-packages (from yfinance) (1.5.3)\n",
      "Requirement already satisfied: numpy>=1.16.5 in c:\\users\\pc\\anaconda3\\lib\\site-packages (from yfinance) (1.24.3)\n",
      "Requirement already satisfied: requests>=2.31 in c:\\users\\pc\\anaconda3\\lib\\site-packages (from yfinance) (2.31.0)\n",
      "Requirement already satisfied: multitasking>=0.0.7 in c:\\users\\pc\\anaconda3\\lib\\site-packages (from yfinance) (0.0.11)\n",
      "Requirement already satisfied: lxml>=4.9.1 in c:\\users\\pc\\anaconda3\\lib\\site-packages (from yfinance) (4.9.2)\n",
      "Requirement already satisfied: appdirs>=1.4.4 in c:\\users\\pc\\anaconda3\\lib\\site-packages (from yfinance) (1.4.4)\n",
      "Requirement already satisfied: pytz>=2022.5 in c:\\users\\pc\\anaconda3\\lib\\site-packages (from yfinance) (2022.7)\n",
      "Requirement already satisfied: frozendict>=2.3.4 in c:\\users\\pc\\anaconda3\\lib\\site-packages (from yfinance) (2.3.8)\n",
      "Requirement already satisfied: beautifulsoup4>=4.11.1 in c:\\users\\pc\\anaconda3\\lib\\site-packages (from yfinance) (4.12.2)\n",
      "Requirement already satisfied: html5lib>=1.1 in c:\\users\\pc\\anaconda3\\lib\\site-packages (from yfinance) (1.1)\n",
      "Requirement already satisfied: soupsieve>1.2 in c:\\users\\pc\\anaconda3\\lib\\site-packages (from beautifulsoup4>=4.11.1->yfinance) (2.4)\n",
      "Requirement already satisfied: six>=1.9 in c:\\users\\pc\\anaconda3\\lib\\site-packages (from html5lib>=1.1->yfinance) (1.16.0)\n",
      "Requirement already satisfied: webencodings in c:\\users\\pc\\anaconda3\\lib\\site-packages (from html5lib>=1.1->yfinance) (0.5.1)\n",
      "Requirement already satisfied: python-dateutil>=2.8.1 in c:\\users\\pc\\anaconda3\\lib\\site-packages (from pandas>=1.3.0->yfinance) (2.8.2)\n",
      "Requirement already satisfied: charset-normalizer<4,>=2 in c:\\users\\pc\\anaconda3\\lib\\site-packages (from requests>=2.31->yfinance) (2.0.4)\n",
      "Requirement already satisfied: idna<4,>=2.5 in c:\\users\\pc\\anaconda3\\lib\\site-packages (from requests>=2.31->yfinance) (3.4)\n",
      "Requirement already satisfied: urllib3<3,>=1.21.1 in c:\\users\\pc\\anaconda3\\lib\\site-packages (from requests>=2.31->yfinance) (1.26.16)\n",
      "Requirement already satisfied: certifi>=2017.4.17 in c:\\users\\pc\\anaconda3\\lib\\site-packages (from requests>=2.31->yfinance) (2023.7.22)\n",
      "Note: you may need to restart the kernel to use updated packages.\n"
     ]
    }
   ],
   "source": [
    "pip install yfinance"
   ]
  },
  {
   "cell_type": "code",
   "execution_count": 2,
   "id": "1f09d0da-e6a1-4b68-a2a8-e7c9098f2eaa",
   "metadata": {
    "tags": []
   },
   "outputs": [],
   "source": [
    "import pandas as pd\n",
    "import matplotlib.pyplot as plt\n",
    "import yfinance as yf\n",
    "import seaborn as sns\n",
    "import numpy as np\n",
    "%matplotlib inline\n"
   ]
  },
  {
   "cell_type": "code",
   "execution_count": 3,
   "id": "ba1de45c-456c-45b3-b020-d593516260b4",
   "metadata": {
    "tags": []
   },
   "outputs": [
    {
     "name": "stdin",
     "output_type": "stream",
     "text": [
      "enter code of stock to download GC=F\n"
     ]
    },
    {
     "name": "stdout",
     "output_type": "stream",
     "text": [
      "[*********************100%%**********************]  1 of 1 completed\n"
     ]
    },
    {
     "data": {
      "text/html": [
       "<div>\n",
       "<style scoped>\n",
       "    .dataframe tbody tr th:only-of-type {\n",
       "        vertical-align: middle;\n",
       "    }\n",
       "\n",
       "    .dataframe tbody tr th {\n",
       "        vertical-align: top;\n",
       "    }\n",
       "\n",
       "    .dataframe thead th {\n",
       "        text-align: right;\n",
       "    }\n",
       "</style>\n",
       "<table border=\"1\" class=\"dataframe\">\n",
       "  <thead>\n",
       "    <tr style=\"text-align: right;\">\n",
       "      <th></th>\n",
       "      <th>Open</th>\n",
       "      <th>High</th>\n",
       "      <th>Low</th>\n",
       "      <th>Close</th>\n",
       "      <th>Adj Close</th>\n",
       "      <th>Volume</th>\n",
       "    </tr>\n",
       "    <tr>\n",
       "      <th>Date</th>\n",
       "      <th></th>\n",
       "      <th></th>\n",
       "      <th></th>\n",
       "      <th></th>\n",
       "      <th></th>\n",
       "      <th></th>\n",
       "    </tr>\n",
       "  </thead>\n",
       "  <tbody>\n",
       "    <tr>\n",
       "      <th>2008-01-02</th>\n",
       "      <td>848.700012</td>\n",
       "      <td>857.799988</td>\n",
       "      <td>846.400024</td>\n",
       "      <td>857.000000</td>\n",
       "      <td>857.000000</td>\n",
       "      <td>130</td>\n",
       "    </tr>\n",
       "    <tr>\n",
       "      <th>2008-01-03</th>\n",
       "      <td>863.000000</td>\n",
       "      <td>865.500000</td>\n",
       "      <td>856.299988</td>\n",
       "      <td>866.400024</td>\n",
       "      <td>866.400024</td>\n",
       "      <td>181</td>\n",
       "    </tr>\n",
       "    <tr>\n",
       "      <th>2008-01-04</th>\n",
       "      <td>861.400024</td>\n",
       "      <td>865.500000</td>\n",
       "      <td>860.200012</td>\n",
       "      <td>863.099976</td>\n",
       "      <td>863.099976</td>\n",
       "      <td>28</td>\n",
       "    </tr>\n",
       "    <tr>\n",
       "      <th>2008-01-07</th>\n",
       "      <td>860.900024</td>\n",
       "      <td>860.900024</td>\n",
       "      <td>857.400024</td>\n",
       "      <td>859.599976</td>\n",
       "      <td>859.599976</td>\n",
       "      <td>4</td>\n",
       "    </tr>\n",
       "    <tr>\n",
       "      <th>2008-01-08</th>\n",
       "      <td>861.599976</td>\n",
       "      <td>879.400024</td>\n",
       "      <td>861.599976</td>\n",
       "      <td>878.000000</td>\n",
       "      <td>878.000000</td>\n",
       "      <td>21</td>\n",
       "    </tr>\n",
       "  </tbody>\n",
       "</table>\n",
       "</div>"
      ],
      "text/plain": [
       "                  Open        High         Low       Close   Adj Close  Volume\n",
       "Date                                                                          \n",
       "2008-01-02  848.700012  857.799988  846.400024  857.000000  857.000000     130\n",
       "2008-01-03  863.000000  865.500000  856.299988  866.400024  866.400024     181\n",
       "2008-01-04  861.400024  865.500000  860.200012  863.099976  863.099976      28\n",
       "2008-01-07  860.900024  860.900024  857.400024  859.599976  859.599976       4\n",
       "2008-01-08  861.599976  879.400024  861.599976  878.000000  878.000000      21"
      ]
     },
     "execution_count": 3,
     "metadata": {},
     "output_type": "execute_result"
    }
   ],
   "source": [
    "stocks = input(\"enter code of stock to download\")\n",
    "data = yf.download(stocks,\"2008-01-01\",\"2021-01-18\")\n",
    "data.head()"
   ]
  },
  {
   "cell_type": "code",
   "execution_count": null,
   "id": "82e3e082-7678-43fa-a2d5-09ecf3323cf0",
   "metadata": {
    "tags": []
   },
   "outputs": [],
   "source": [
    "data.shape"
   ]
  },
  {
   "cell_type": "code",
   "execution_count": null,
   "id": "e584cd22-6817-46f8-ac3b-87e3a6c7a0ed",
   "metadata": {
    "tags": []
   },
   "outputs": [],
   "source": [
    "data.info"
   ]
  },
  {
   "cell_type": "code",
   "execution_count": 24,
   "id": "6580ce84-23c4-4c75-93a2-9118e66e05ad",
   "metadata": {
    "tags": []
   },
   "outputs": [
    {
     "data": {
      "text/html": [
       "<div>\n",
       "<style scoped>\n",
       "    .dataframe tbody tr th:only-of-type {\n",
       "        vertical-align: middle;\n",
       "    }\n",
       "\n",
       "    .dataframe tbody tr th {\n",
       "        vertical-align: top;\n",
       "    }\n",
       "\n",
       "    .dataframe thead th {\n",
       "        text-align: right;\n",
       "    }\n",
       "</style>\n",
       "<table border=\"1\" class=\"dataframe\">\n",
       "  <thead>\n",
       "    <tr style=\"text-align: right;\">\n",
       "      <th></th>\n",
       "      <th>Open</th>\n",
       "      <th>High</th>\n",
       "      <th>Low</th>\n",
       "      <th>Close</th>\n",
       "      <th>Adj Close</th>\n",
       "      <th>Volume</th>\n",
       "    </tr>\n",
       "  </thead>\n",
       "  <tbody>\n",
       "    <tr>\n",
       "      <th>count</th>\n",
       "      <td>3281.000000</td>\n",
       "      <td>3281.000000</td>\n",
       "      <td>3281.000000</td>\n",
       "      <td>3281.000000</td>\n",
       "      <td>3281.000000</td>\n",
       "      <td>3281.000000</td>\n",
       "    </tr>\n",
       "    <tr>\n",
       "      <th>mean</th>\n",
       "      <td>1316.287291</td>\n",
       "      <td>1323.427614</td>\n",
       "      <td>1308.463700</td>\n",
       "      <td>1316.037885</td>\n",
       "      <td>1316.037885</td>\n",
       "      <td>5606.854008</td>\n",
       "    </tr>\n",
       "    <tr>\n",
       "      <th>std</th>\n",
       "      <td>262.732678</td>\n",
       "      <td>264.022456</td>\n",
       "      <td>261.294638</td>\n",
       "      <td>262.754237</td>\n",
       "      <td>262.754237</td>\n",
       "      <td>29568.392331</td>\n",
       "    </tr>\n",
       "    <tr>\n",
       "      <th>min</th>\n",
       "      <td>705.000000</td>\n",
       "      <td>715.500000</td>\n",
       "      <td>681.000000</td>\n",
       "      <td>704.900024</td>\n",
       "      <td>704.900024</td>\n",
       "      <td>0.000000</td>\n",
       "    </tr>\n",
       "    <tr>\n",
       "      <th>25%</th>\n",
       "      <td>1183.400024</td>\n",
       "      <td>1189.400024</td>\n",
       "      <td>1176.199951</td>\n",
       "      <td>1183.400024</td>\n",
       "      <td>1183.400024</td>\n",
       "      <td>41.000000</td>\n",
       "    </tr>\n",
       "    <tr>\n",
       "      <th>50%</th>\n",
       "      <td>1282.500000</td>\n",
       "      <td>1287.099976</td>\n",
       "      <td>1277.800049</td>\n",
       "      <td>1282.099976</td>\n",
       "      <td>1282.099976</td>\n",
       "      <td>137.000000</td>\n",
       "    </tr>\n",
       "    <tr>\n",
       "      <th>75%</th>\n",
       "      <td>1486.199951</td>\n",
       "      <td>1491.599976</td>\n",
       "      <td>1477.300049</td>\n",
       "      <td>1484.000000</td>\n",
       "      <td>1484.000000</td>\n",
       "      <td>442.000000</td>\n",
       "    </tr>\n",
       "    <tr>\n",
       "      <th>max</th>\n",
       "      <td>2045.500000</td>\n",
       "      <td>2063.000000</td>\n",
       "      <td>2040.000000</td>\n",
       "      <td>2051.500000</td>\n",
       "      <td>2051.500000</td>\n",
       "      <td>386334.000000</td>\n",
       "    </tr>\n",
       "  </tbody>\n",
       "</table>\n",
       "</div>"
      ],
      "text/plain": [
       "              Open         High          Low        Close    Adj Close  \\\n",
       "count  3281.000000  3281.000000  3281.000000  3281.000000  3281.000000   \n",
       "mean   1316.287291  1323.427614  1308.463700  1316.037885  1316.037885   \n",
       "std     262.732678   264.022456   261.294638   262.754237   262.754237   \n",
       "min     705.000000   715.500000   681.000000   704.900024   704.900024   \n",
       "25%    1183.400024  1189.400024  1176.199951  1183.400024  1183.400024   \n",
       "50%    1282.500000  1287.099976  1277.800049  1282.099976  1282.099976   \n",
       "75%    1486.199951  1491.599976  1477.300049  1484.000000  1484.000000   \n",
       "max    2045.500000  2063.000000  2040.000000  2051.500000  2051.500000   \n",
       "\n",
       "              Volume  \n",
       "count    3281.000000  \n",
       "mean     5606.854008  \n",
       "std     29568.392331  \n",
       "min         0.000000  \n",
       "25%        41.000000  \n",
       "50%       137.000000  \n",
       "75%       442.000000  \n",
       "max    386334.000000  "
      ]
     },
     "execution_count": 24,
     "metadata": {},
     "output_type": "execute_result"
    }
   ],
   "source": [
    "data.describe()"
   ]
  },
  {
   "cell_type": "code",
   "execution_count": 7,
   "id": "623d52a0-c0db-4ba5-ae10-1ba6af530875",
   "metadata": {},
   "outputs": [],
   "source": [
    "#stock prediction is very unlinear hence ur algorithm might fail, be carefull with modeling"
   ]
  },
  {
   "cell_type": "code",
   "execution_count": 25,
   "id": "5cd72fc8-de02-41fa-831f-2891c1e762c3",
   "metadata": {
    "tags": []
   },
   "outputs": [
    {
     "data": {
      "image/png": "[encoded data removed]",
      "text/plain": [
       "<Figure size 1000x700 with 1 Axes>"
      ]
     },
     "metadata": {},
     "output_type": "display_data"
    }
   ],
   "source": [
    "data.Close.plot(figsize=(10,7),color=\"r\")\n",
    "plt.ylabel(\"{} Prices\".format(stocks))\n",
    "plt.title(\"{} Price Series\".format(stocks))\n",
    "plt.show()"
   ]
  },
  {
   "cell_type": "code",
   "execution_count": 26,
   "id": "6045fe24-1fb6-4f9f-bb84-3de4596d8069",
   "metadata": {
    "tags": []
   },
   "outputs": [
    {
     "name": "stderr",
     "output_type": "stream",
     "text": [
      "C:\\Users\\pc\\AppData\\Local\\Temp\\ipykernel_12220\\2693321050.py:1: UserWarning: \n",
      "\n",
      "`distplot` is a deprecated function and will be removed in seaborn v0.14.0.\n",
      "\n",
      "Please adapt your code to use either `displot` (a figure-level function with\n",
      "similar flexibility) or `histplot` (an axes-level function for histograms).\n",
      "\n",
      "For a guide to updating your code to use the new functions, please see\n",
      "https://gist.github.com/mwaskom/de44147ed2974457ad6372750bbe5751\n",
      "\n",
      "  sns.distplot(data[\"Close\"])\n"
     ]
    },
    {
     "data": {
      "text/plain": [
       "<Axes: xlabel='Close', ylabel='Density'>"
      ]
     },
     "execution_count": 26,
     "metadata": {},
     "output_type": "execute_result"
    },
    {
     "data": {
      "image/png": "[encoded data removed]",
      "text/plain": [
       "<Figure size 640x480 with 1 Axes>"
      ]
     },
     "metadata": {},
     "output_type": "display_data"
    }
   ],
   "source": [
    "sns.distplot(data[\"Close\"])"
   ]
  },
  {
   "cell_type": "code",
   "execution_count": 10,
   "id": "e890566b-5535-4d98-9c53-d8a58112afdf",
   "metadata": {},
   "outputs": [],
   "source": [
    "#stock price predicyion is a acompetitie project to work on because it is very non linear\n",
    "#hence linear regression is not the best algorithm to use in this case but we will explore linear regression,\n",
    "#logistic regression regularized regression and SVM in order to explore all their capabilities."
   ]
  },
  {
   "cell_type": "code",
   "execution_count": 27,
   "id": "9fba837f-d655-449e-9c4b-50d31ff2395d",
   "metadata": {
    "tags": []
   },
   "outputs": [
    {
     "name": "stdout",
     "output_type": "stream",
     "text": [
      "(2624, 5)\n",
      "(657, 5)\n",
      "(2624,)\n",
      "(657,)\n"
     ]
    }
   ],
   "source": [
    "x = data.drop(\"Close\", axis=1)\n",
    "y = data[\"Close\"]\n",
    "from sklearn.model_selection import train_test_split\n",
    "x_train,x_test,y_train,y_test = train_test_split(x,y,test_size=0.2,random_state=0)\n",
    "print(x_train.shape)\n",
    "print(x_test.shape)\n",
    "print(y_train.shape)\n",
    "print(y_test.shape)\n"
   ]
  },
  {
   "cell_type": "code",
   "execution_count": 28,
   "id": "1db563d0-1c38-4268-a320-7037507ec954",
   "metadata": {
    "tags": []
   },
   "outputs": [],
   "source": [
    "from sklearn.linear_model import LinearRegression\n",
    "lr = LinearRegression()\n",
    "lr.fit(x_train,y_train)\n",
    "prediction1=lr.predict(x_test)"
   ]
  },
  {
   "cell_type": "code",
   "execution_count": 29,
   "id": "9c59794c-b808-4beb-8c6e-38e9186c74a3",
   "metadata": {
    "tags": []
   },
   "outputs": [
    {
     "data": {
      "text/plain": [
       "array([1728.69995117, 1093.30004883, 1259.69995117, 1107.19995117,\n",
       "       1386.80004883,  901.70001221, 1250.59997559, 1290.09997559,\n",
       "       1209.5       , 1898.59997559, 1155.19995117, 1921.59997559,\n",
       "       1579.30004883, 1218.09997559,  955.79998779, 1721.09997559,\n",
       "       1373.09997559, 1318.69995117,  934.59997559, 1326.5       ,\n",
       "       1312.69995117, 1324.30004883, 1156.30004883, 1060.09997559,\n",
       "       1214.19995117, 1645.5       , 1197.69995117, 1869.90002441,\n",
       "       1648.69995117, 1284.19995117, 1392.59997559, 1277.69995117,\n",
       "        865.40002441, 1613.40002441, 1352.30004883, 1350.19995117,\n",
       "       1320.59997559, 1062.40002441, 1234.90002441, 1166.90002441,\n",
       "       1366.59997559, 1187.90002441, 1290.40002441, 1490.30004883,\n",
       "       1265.59997559, 1293.5       , 1226.59997559, 1183.59997559,\n",
       "       1826.69995117, 1273.69995117, 1380.        , 1352.40002441,\n",
       "       1330.5       , 1656.19995117, 1642.09997559, 1310.69995117,\n",
       "       1104.40002441, 1239.69995117, 1279.59997559,  899.79998779,\n",
       "       1309.69995117, 1296.        , 1117.80004883, 1331.5       ,\n",
       "       1273.40002441, 1077.19995117, 1253.80004883, 1231.40002441,\n",
       "       1167.59997559, 1244.30004883, 1057.30004883, 1232.80004883,\n",
       "       1328.19995117, 1183.        ,  880.59997559, 1342.09997559,\n",
       "       1662.59997559, 1516.69995117, 1182.69995117, 1233.59997559,\n",
       "       1070.5       , 1548.40002441,  904.90002441, 1716.59997559,\n",
       "       1221.19995117, 1664.19995117, 1282.        , 1377.59997559,\n",
       "       1615.        , 1324.19995117, 1306.09997559,  901.29998779,\n",
       "       1508.        , 1331.59997559, 1338.09997559, 1276.19995117,\n",
       "       1512.30004883, 1298.90002441, 1274.09997559, 1273.        ,\n",
       "       1731.80004883, 1225.        , 1308.5       , 1267.40002441,\n",
       "       1247.30004883, 1736.90002441, 1205.09997559, 1288.19995117,\n",
       "       1293.30004883, 1468.80004883,  735.90002441, 1615.5       ,\n",
       "       1323.59997559, 1769.09997559, 1258.09997559, 1142.69995117,\n",
       "       1275.59997559, 1575.19995117, 1455.5       , 1186.09997559,\n",
       "       1206.30004883, 1089.5       , 1227.80004883, 1874.69995117,\n",
       "       1244.09997559, 1418.5       , 1756.69995117,  839.29998779,\n",
       "        927.        , 1403.09997559, 1780.5       ,  855.40002441,\n",
       "       1601.30004883, 1046.40002441, 1309.19995117, 1577.09997559,\n",
       "       1307.80004883, 1725.09997559, 1967.59997559, 1271.90002441,\n",
       "       1232.5       , 1249.19995117, 1110.80004883, 1206.69995117,\n",
       "       1196.59997559, 1732.        , 1242.30004883, 1308.40002441,\n",
       "       1612.90002441, 1256.69995117, 1053.40002441, 1273.69995117,\n",
       "       1088.40002441, 1290.09997559, 1737.80004883, 1272.40002441,\n",
       "       1219.30004883, 1325.90002441, 1203.40002441, 1730.30004883,\n",
       "       1482.30004883, 1612.69995117, 1475.59997559, 1195.5       ,\n",
       "       1721.80004883, 1152.30004883, 1245.90002441, 1312.        ,\n",
       "        732.        , 1189.5       , 1285.69995117, 1265.09997559,\n",
       "       1211.90002441, 1178.19995117, 1764.19995117, 1219.80004883,\n",
       "        954.        , 1446.30004883, 1723.        ,  907.40002441,\n",
       "       1187.19995117, 1919.5       , 1341.30004883, 1123.59997559,\n",
       "       1374.69995117, 1152.19995117, 1798.69995117, 1313.69995117,\n",
       "       1206.90002441,  900.09997559, 1336.40002441, 1900.80004883,\n",
       "       1372.19995117, 1306.30004883, 1305.80004883,  862.70001221,\n",
       "       1337.09997559, 1528.59997559, 1498.40002441, 1392.59997559,\n",
       "       1336.69995117, 1130.09997559,  928.79998779, 1385.5       ,\n",
       "       1224.5       , 1194.69995117, 1888.59997559, 1111.40002441,\n",
       "       1208.09997559, 1104.19995117, 1294.69995117, 1286.80004883,\n",
       "       1646.        , 1717.5       , 1056.19995117, 1221.        ,\n",
       "       1686.59997559, 1187.        , 1336.69995117, 1102.69995117,\n",
       "       1369.5       , 1234.40002441,  895.59997559,  937.70001221,\n",
       "       1241.90002441, 1825.69995117, 1120.40002441, 1298.09997559,\n",
       "       1209.59997559, 1198.30004883, 1452.90002441, 1595.59997559,\n",
       "        913.59997559, 1668.90002441, 1842.40002441, 1290.19995117,\n",
       "       1132.5       , 1269.90002441, 1413.90002441, 1133.09997559,\n",
       "       1492.19995117, 1181.09997559, 1244.5       , 1313.90002441,\n",
       "       1323.5       , 1572.        , 1183.69995117, 1333.80004883,\n",
       "       1638.59997559, 1340.69995117, 1340.30004883, 1287.        ,\n",
       "       1669.40002441, 1244.        , 1271.40002441, 1656.40002441,\n",
       "       1781.30004883,  763.79998779, 1338.        , 1235.40002441,\n",
       "       1153.30004883, 1172.90002441, 1153.09997559, 1499.69995117,\n",
       "        808.20001221,  883.09997559, 1294.69995117,  926.20001221,\n",
       "       1564.5       , 1333.69995117, 1426.09997559, 1352.90002441,\n",
       "        895.59997559, 1194.09997559, 1263.69995117,  892.90002441,\n",
       "       1249.19995117, 1723.19995117, 1305.69995117, 1303.80004883,\n",
       "       1771.09997559, 1613.80004883,  923.        , 1206.19995117,\n",
       "        928.70001221, 1281.        , 1127.90002441,  941.79998779,\n",
       "       1376.69995117, 1608.90002441, 1226.19995117, 1320.80004883,\n",
       "       1331.5       , 1472.59997559, 1274.90002441, 1198.5       ,\n",
       "       1289.09997559, 1097.90002441,  802.70001221, 1249.30004883,\n",
       "       1556.80004883, 1463.09997559, 1727.90002441, 1254.        ,\n",
       "       1954.19995117, 1953.5       ,  964.5       , 1225.30004883,\n",
       "       1594.19995117, 1293.40002441, 1507.30004883, 1208.09997559,\n",
       "       1089.90002441, 1271.90002441, 1226.5       , 1286.90002441,\n",
       "       1272.        ,  716.79998779, 1402.80004883, 1290.59997559,\n",
       "        942.09997559, 1242.19995117, 1728.69995117, 1781.69995117,\n",
       "        890.90002441, 1634.19995117, 1276.19995117, 1774.80004883,\n",
       "        910.5       ,  866.40002441, 1294.30004883, 1513.80004883,\n",
       "       1326.40002441,  878.79998779, 1256.59997559, 1199.09997559,\n",
       "       1710.90002441, 1229.90002441, 1159.69995117, 1342.09997559,\n",
       "        958.29998779, 1564.30004883, 1161.59997559, 1211.        ,\n",
       "       1116.09997559, 1218.59997559, 1077.5       , 1195.30004883,\n",
       "       1287.69995117, 1264.69995117, 1194.30004883, 1245.5       ,\n",
       "       1279.09997559, 1283.        , 1265.40002441, 1215.30004883,\n",
       "       1162.80004883, 1849.59997559, 1306.30004883, 1293.59997559,\n",
       "       1223.30004883, 1897.30004883,  913.59997559, 1730.59997559,\n",
       "       1268.5       ,  927.09997559, 1479.80004883,  819.40002441,\n",
       "       1131.80004883, 1177.90002441,  956.59997559,  992.29998779,\n",
       "       1233.80004883, 1295.09997559, 1168.40002441, 1344.80004883,\n",
       "       1423.40002441, 1217.40002441, 1312.90002441, 1306.30004883,\n",
       "       1311.69995117, 1203.90002441, 1683.40002441, 1514.5       ,\n",
       "       1113.30004883,  965.70001221, 1227.80004883, 1195.5       ,\n",
       "       1267.        , 1385.69995117, 1131.59997559, 1283.09997559,\n",
       "       1551.69995117, 1710.5       , 1492.30004883, 1289.30004883,\n",
       "       1540.09997559, 1639.19995117, 1324.5       , 1317.40002441,\n",
       "       1611.90002441, 1276.80004883, 1290.19995117, 1290.80004883,\n",
       "       1281.        , 1295.59997559, 1574.59997559, 1652.40002441,\n",
       "       1282.        , 1186.90002441, 1852.30004883, 1537.80004883,\n",
       "        957.        ,  885.90002441,  953.20001221, 1320.09997559,\n",
       "       1138.59997559, 1086.69995117, 1772.5       , 1658.59997559,\n",
       "       1285.5       , 1285.80004883,  963.09997559, 1695.80004883,\n",
       "       1088.19995117,  883.59997559,  787.59997559, 1192.59997559,\n",
       "       1526.30004883, 1506.09997559, 1195.        ,  878.        ,\n",
       "       1228.5       , 1255.09997559, 1964.59997559,  745.59997559,\n",
       "       1566.        , 1274.80004883, 1321.69995117, 1195.        ,\n",
       "       1334.69995117, 1294.19995117, 1288.59997559,  903.90002441,\n",
       "       1291.69995117, 1616.59997559, 1107.80004883, 1386.69995117,\n",
       "       1257.59997559, 1054.19995117, 1770.        , 1872.59997559,\n",
       "       1265.5       , 1392.        , 1316.69995117, 1136.30004883,\n",
       "       1174.59997559, 1264.5       , 1200.59997559, 1679.5       ,\n",
       "        997.5       , 1669.30004883, 1379.09997559, 1612.90002441,\n",
       "       1794.09997559, 1356.5       , 1309.90002441, 1757.09997559,\n",
       "       1908.5       , 1200.19995117, 1310.80004883,  922.5       ,\n",
       "       1197.90002441, 1200.        , 1157.59997559, 1333.40002441,\n",
       "       1985.        , 1271.90002441,  880.70001221,  921.59997559,\n",
       "       1572.09997559, 1112.59997559, 1335.40002441, 1135.30004883,\n",
       "       1514.90002441, 1238.69995117, 1713.30004883, 1637.5       ,\n",
       "       1211.30004883, 1225.        , 1791.19995117, 1297.09997559,\n",
       "        995.79998779, 1316.19995117, 1268.        , 1291.        ,\n",
       "       1229.30004883, 1197.5       , 1090.19995117, 1253.80004883,\n",
       "        847.09997559,  925.40002441, 1221.        , 1268.30004883,\n",
       "       1453.40002441, 1283.40002441, 1858.30004883,  905.5       ,\n",
       "       1650.30004883, 1445.59997559, 1467.40002441,  846.59997559,\n",
       "       1282.5       , 1767.69995117, 1633.69995117, 1414.90002441,\n",
       "       1246.80004883, 1281.5       , 1326.09997559, 1342.5       ,\n",
       "       1420.59997559, 1669.59997559, 1223.80004883,  871.5       ,\n",
       "       1303.09997559, 1141.5       , 1132.90002441, 1571.09997559,\n",
       "       1718.90002441, 1192.80004883, 1657.90002441, 1186.80004883,\n",
       "       1222.30004883, 1434.5       , 1195.40002441, 1340.19995117,\n",
       "       1293.69995117, 1233.40002441, 1105.09997559, 1192.59997559,\n",
       "       1474.        , 1075.80004883, 1171.09997559, 1171.5       ,\n",
       "       1191.5       , 1371.19995117, 1608.80004883, 1153.5       ,\n",
       "       1142.30004883, 1790.30004883, 1327.19995117, 1103.5       ,\n",
       "       1174.        , 1118.        , 1279.40002441, 1269.30004883,\n",
       "       1660.        , 1524.5       , 1932.59997559, 1934.40002441,\n",
       "        901.        , 1250.80004883, 1244.80004883, 1272.        ,\n",
       "       1713.        ,  923.59997559, 1313.30004883,  906.5       ,\n",
       "       1944.69995117, 1672.40002441, 1558.30004883, 1245.19995117,\n",
       "       1453.59997559, 1560.59997559, 1714.69995117, 1202.40002441,\n",
       "        820.29998779, 1285.69995117, 1659.09997559, 1307.5       ,\n",
       "       1509.90002441, 1659.        , 1240.        , 1747.        ,\n",
       "       1176.19995117, 1263.90002441, 1415.69995117, 1670.80004883,\n",
       "       1248.19995117, 1213.80004883, 1187.19995117, 1324.19995117,\n",
       "       1134.80004883, 1159.40002441,  818.40002441, 1776.40002441,\n",
       "       1268.40002441, 1564.59997559, 1284.90002441, 1252.40002441,\n",
       "       1077.59997559,  750.5       , 1338.        , 1352.19995117,\n",
       "       1519.5       , 1716.5       , 1229.30004883, 1811.40002441,\n",
       "        957.29998779, 1273.30004883, 1763.        , 1055.40002441,\n",
       "       1415.30004883, 1719.59997559, 1223.69995117, 1076.69995117,\n",
       "        836.40002441, 1156.40002441,  841.70001221, 1247.80004883,\n",
       "       1842.90002441, 1690.40002441, 1324.        , 1339.        ,\n",
       "       1228.90002441, 1229.80004883, 1590.09997559, 1557.80004883,\n",
       "       1850.30004883, 1541.19995117, 1263.19995117, 1343.30004883,\n",
       "        944.70001221, 1700.30004883, 1497.30004883, 1250.30004883,\n",
       "       1313.5       , 1178.        , 1615.        , 1312.        ,\n",
       "       1501.        , 1532.        ,  878.59997559, 1703.        ,\n",
       "       1207.90002441, 1631.        ,  892.79998779, 1671.40002441,\n",
       "       1332.80004883, 1091.5       , 1382.80004883,  882.20001221,\n",
       "       1411.40002441, 1271.80004883, 1385.59997559, 1253.90002441,\n",
       "       1175.69995117])"
      ]
     },
     "execution_count": 29,
     "metadata": {},
     "output_type": "execute_result"
    }
   ],
   "source": [
    "prediction1"
   ]
  },
  {
   "cell_type": "code",
   "execution_count": 14,
   "id": "ea386053-34e9-4374-b87c-655301e794d5",
   "metadata": {},
   "outputs": [],
   "source": [
    "#from the above output, the linear regression  does not fits that  well . It perfoms bad on the\n",
    "#training data, as the predicted values are not correspondent to the original values\n",
    "#but it might cause overfitting as there are a large number of features\n",
    "#we can the check the accuracy of the model using the following\n",
    "#MSE(mean squared error)\n",
    "#RMSE(the squared root of the MSE)\n",
    "#r2_squaredan r2_squared value of 1.2 gives a very good model)"
   ]
  },
  {
   "cell_type": "code",
   "execution_count": 30,
   "id": "ef2e0f29-67b2-4fbb-8056-922edf8c26d8",
   "metadata": {
    "tags": []
   },
   "outputs": [],
   "source": [
    "from sklearn.metrics import mean_squared_error,r2_score\n",
    "def calculate_Metrics(y_test,y_pred):\n",
    "    ...\n",
    "   # y_test = ground truth\n",
    "   # y_pred = model predicted value\n",
    "    ...\n",
    "    mse = mean_squared_error(y_test,y_pred)\n",
    "    rmse = np.sqrt(mse)\n",
    "    r2_scores = r2_score(y_test,y_pred)\n",
    "    print(\"MSE:\",mse)\n",
    "    print(\"RMSE:\",rmse)\n",
    "    print(\"R2_Score:\",r2_scores)\n",
    "    "
   ]
  },
  {
   "cell_type": "code",
   "execution_count": 32,
   "id": "3eb75c37-173f-4729-b331-5162062f6703",
   "metadata": {
    "tags": []
   },
   "outputs": [
    {
     "name": "stdout",
     "output_type": "stream",
     "text": [
      "MSE: 3.811959399644165e-24\n",
      "RMSE: 1.9524239805032526e-12\n",
      "R2_Score: 1.0\n"
     ]
    }
   ],
   "source": [
    "    calculate_Metrics(y_test,prediction1)\n",
    "    "
   ]
  },
  {
   "cell_type": "code",
   "execution_count": 17,
   "id": "b088dcb4-dccd-4f40-b446-1b600d6a5227",
   "metadata": {},
   "outputs": [],
   "source": [
    "#from the above values, MSE is bad,RMSE is also bad.This is why the predicted values deviated from\n",
    "#the actual values\n",
    "#so we now explore our next model which is the regularized model(Lasso and Ridge)"
   ]
  },
  {
   "cell_type": "code",
   "execution_count": 33,
   "id": "5152cc60-4576-4b2c-b964-147c76797e78",
   "metadata": {},
   "outputs": [],
   "source": [
    "from sklearn.linear_model import Lasso,Ridge\n",
    "la = Lasso().fit(x_train,y_train)\n",
    "ri = Ridge().fit(x_train,y_train)\n",
    "la_p = la.predict(x_test)\n",
    "ri_p = ri.predict(x_test)"
   ]
  },
  {
   "cell_type": "code",
   "execution_count": 41,
   "id": "3174a438-36f3-4c85-8ddf-5674f8ee23ab",
   "metadata": {
    "tags": []
   },
   "outputs": [
    {
     "name": "stdout",
     "output_type": "stream",
     "text": [
      "MSE: 10.942141473479372\n",
      "RMSE: 3.3078907892310125\n",
      "R2_Score: 0.9998360348053783\n"
     ]
    }
   ],
   "source": [
    "calculate_Metrics(y_test,la_p)"
   ]
  },
  {
   "cell_type": "code",
   "execution_count": null,
   "id": "a1d41132-6bb9-49fa-939b-d895e9cec6ae",
   "metadata": {},
   "outputs": [],
   "source": [
    "#mse,rmse and r2_ score values are better than in linear regression"
   ]
  },
  {
   "cell_type": "code",
   "execution_count": 40,
   "id": "f08929b8-3e76-49ac-b04c-df6c651e084e",
   "metadata": {
    "tags": []
   },
   "outputs": [
    {
     "name": "stdout",
     "output_type": "stream",
     "text": [
      "MSE: 5.717316325824151e-09\n",
      "RMSE: 7.561293755584524e-05\n",
      "R2_Score: 0.9999999999999143\n"
     ]
    }
   ],
   "source": [
    "calculate_Metrics(y_test,ri_p)"
   ]
  },
  {
   "cell_type": "code",
   "execution_count": null,
   "id": "009d794e-52d1-4bb8-8ce5-d7839e8c2d09",
   "metadata": {},
   "outputs": [],
   "source": [
    "#the values obtained with regards to the ridge regression is the best amongst all "
   ]
  },
  {
   "cell_type": "code",
   "execution_count": 21,
   "id": "1fead1c7-7c98-4097-be21-37fac0e1e441",
   "metadata": {
    "jupyter": {
     "source_hidden": true
    },
    "tags": []
   },
   "outputs": [],
   "source": [
    "#from the two above lasso and ridge regressions, they are better than the linear regression according to the metrics\n",
    "#but amon the two,Lasso regression performs better than ridge so in this case, we use Lasso as our model\n",
    "\n",
    "#We then explore SVM model. In order to use SVM model, we first tune the model to select thebest hyper parameters because\n",
    "#SVM model does not work well on stock prediction problems"
   ]
  },
  {
   "cell_type": "code",
   "execution_count": 36,
   "id": "2a4fbb2f-ffb2-4cc1-b286-e88bab22d75c",
   "metadata": {
    "tags": []
   },
   "outputs": [
    {
     "ename": "ImportError",
     "evalue": "cannot import name 'GridSearchCv' from 'sklearn.model_selection' (C:\\Users\\pc\\anaconda3\\Lib\\site-packages\\sklearn\\model_selection\\__init__.py)",
     "output_type": "error",
     "traceback": [
      "\u001b[1;31m---------------------------------------------------------------------------\u001b[0m",
      "\u001b[1;31mImportError\u001b[0m                               Traceback (most recent call last)",
      "Cell \u001b[1;32mIn[36], line 1\u001b[0m\n\u001b[1;32m----> 1\u001b[0m \u001b[38;5;28;01mfrom\u001b[39;00m \u001b[38;5;21;01msklearn\u001b[39;00m\u001b[38;5;21;01m.\u001b[39;00m\u001b[38;5;21;01mmodel_selection\u001b[39;00m \u001b[38;5;28;01mimport\u001b[39;00m GridSearchCv\n\u001b[0;32m      2\u001b[0m \u001b[38;5;28;01mfrom\u001b[39;00m \u001b[38;5;21;01msklearn\u001b[39;00m\u001b[38;5;21;01m.\u001b[39;00m\u001b[38;5;21;01msvm\u001b[39;00m \u001b[38;5;28;01mimport\u001b[39;00m SVR\n\u001b[0;32m      3\u001b[0m svr \u001b[38;5;241m=\u001b[39m SVR()\n",
      "\u001b[1;31mImportError\u001b[0m: cannot import name 'GridSearchCv' from 'sklearn.model_selection' (C:\\Users\\pc\\anaconda3\\Lib\\site-packages\\sklearn\\model_selection\\__init__.py)"
     ]
    }
   ],
   "source": [
    "from sklearn.model_selection import GridSearchCv\n",
    "from sklearn.svm import SVR\n",
    "svr = SVR()\n",
    "param_grid = {\"c\":[0.1,1,10,100,1000],\n",
    "              \"gamma\":[1,0.1,0.01,0.001,0.0001],\n",
    "              \"kernel\":[\"rbf\"]}\n",
    "grid = GridSearchCv(svr,param_grid,refit=True,verbose=3,n_jobs=-1)\n",
    "grid.fit(x_train,y_train)\n",
    "              \n",
    "              "
   ]
  },
  {
   "cell_type": "code",
   "execution_count": 39,
   "id": "c5c62d75-811a-40cf-88a8-4bee8e8fba7a",
   "metadata": {
    "tags": []
   },
   "outputs": [
    {
     "name": "stdout",
     "output_type": "stream",
     "text": [
      "[1421.86626748 1274.40039518 1293.03112407 1282.7095889  1293.18593456\n",
      " 1202.60107842 1293.03112407 1285.37923203 1238.07074175 1303.20834536\n",
      " 1187.87628331 1293.03112407 1413.22646283 1217.95433954 1166.03188175\n",
      " 1304.02105193 1352.49989379 1319.51800843 1125.84472705 1311.41292439\n",
      " 1312.50859835 1322.95514107 1175.12837342 1246.48768442 1289.12835322\n",
      " 1407.8066027  1261.00343306 1294.59496223 1378.51379553 1284.03312787\n",
      " 1293.03112407 1277.23965973 1197.18476563 1293.03112407 1293.03113528\n",
      " 1343.6102492  1300.74383954 1293.01997507 1240.54330761 1292.65716584\n",
      " 1306.01707753 1195.34777506 1289.35744777 1402.83030356 1270.11642043\n",
      " 1293.19169142 1227.85321361 1263.8655404  1293.03113837 1274.10452804\n",
      " 1374.97062399 1351.67624282 1330.49110678 1293.51219192 1379.39570088\n",
      " 1296.25561742 1184.71115272 1258.25078376 1287.4057991  1292.99289145\n",
      " 1305.33776529 1295.9912944  1243.20909041 1323.88441177 1272.82503987\n",
      " 1188.75347413 1258.58887744 1231.50285198 1170.10889602 1286.03502058\n",
      " 1251.54019665 1230.91087695 1299.16513869 1184.04841249 1217.86500895\n",
      " 1334.59116506 1318.95873753 1297.68100527 1199.63523783 1239.42855766\n",
      " 1293.03112407 1369.1958734  1289.94065636 1308.19508849 1224.27756799\n",
      " 1389.35454298 1282.18694983 1311.60712538 1293.03112407 1323.93218532\n",
      " 1306.12782345 1200.07442802 1350.1665569  1324.89845914 1336.65241449\n",
      " 1276.335451   1321.55704136 1297.54517906 1273.33192177 1272.64759983\n",
      " 1394.22440991 1237.10877738 1308.99048637 1267.53193362 1293.03112407\n",
      " 1293.0388646  1212.36381304 1288.30666854 1295.21505492 1358.06387382\n",
      " 1260.2118114  1293.03112407 1293.03112407 1318.18219991 1258.83805486\n",
      " 1241.6701009  1275.51108401 1452.35309758 1351.12047829 1261.54970844\n",
      " 1226.33782838 1275.23608058 1225.47234094 1309.74362426 1248.72370905\n",
      " 1393.84705869 1301.01998389 1270.13478866 1223.91721467 1404.82642378\n",
      " 1296.95678504 1292.01141239 1440.55073615 1284.82509866 1308.61606077\n",
      " 1418.50955989 1302.77290207 1417.10485067 1299.22245102 1271.71281461\n",
      " 1232.9383607  1261.33542746 1277.43581181 1253.9199057  1293.03112407\n",
      " 1301.27307075 1251.97817807 1307.36558498 1300.57266032 1257.95279449\n",
      " 1264.31662298 1275.64898349 1293.03112407 1289.35328304 1295.0289169\n",
      " 1273.34273013 1224.86128646 1325.11867062 1246.54227277 1408.99650675\n",
      " 1377.95284913 1303.66362958 1302.76939261 1195.22637276 1294.07824463\n",
      " 1293.03111789 1248.33896577 1309.57372675 1247.41159324 1197.44033005\n",
      " 1285.54607915 1267.59397684 1213.59094578 1190.41975485 1300.70478879\n",
      " 1284.13689877 1281.56114766 1299.36321706 1354.64246419 1240.63448697\n",
      " 1191.36367871 1296.29752983 1293.03112407 1194.50458264 1358.99083194\n",
      " 1260.51768227 1302.20368586 1293.33296822 1221.26288521 1292.69851763\n",
      " 1328.02946947 1315.72060314 1367.89644711 1307.01844505 1306.31975183\n",
      " 1290.71696259 1329.98720618 1297.53914851 1396.87975801 1376.24851676\n",
      " 1328.59326123 1131.23590615 1095.83655999 1360.45807605 1226.70397721\n",
      " 1205.87439267 1302.90900442 1283.91450124 1210.94029257 1178.1936309\n",
      " 1293.03112407 1287.9692763  1385.47482642 1379.15469834 1293.03112407\n",
      " 1221.88520019 1399.33895742 1200.38072208 1322.04072865 1193.31448383\n",
      " 1319.67023833 1236.02135705 1247.6601187  1282.56172655 1242.93354674\n",
      " 1293.83292382 1293.03112407 1296.10048751 1213.19002352 1199.82369497\n",
      " 1299.28528775 1394.25801548 1292.98051992 1406.47300322 1303.11679937\n",
      " 1290.45135128 1242.24976978 1270.35623771 1393.64016082 1193.75123537\n",
      " 1370.30776668 1293.03112407 1245.42337145 1312.75747321 1326.85778253\n",
      " 1362.1255658  1196.62288155 1293.03112407 1346.87338885 1293.03112407\n",
      " 1340.6730518  1289.26501606 1293.03112407 1244.5135743  1273.68364023\n",
      " 1420.72058487 1296.54181413 1290.52350225 1334.46570483 1237.13318224\n",
      " 1157.48784053 1245.85973138 1160.5308954  1299.34094243 1270.1362199\n",
      " 1230.79778903 1294.85173462 1203.22709963 1357.2094474  1293.03257703\n",
      " 1354.14000143 1353.7977188  1293.03110097 1292.55816436 1274.9884094\n",
      " 1292.31026044 1249.39811985 1428.11393197 1305.69361383 1303.77395605\n",
      " 1293.03112407 1359.12440266 1293.03112407 1207.34120651 1215.92779423\n",
      " 1281.32282316 1292.68821139 1285.38290277 1377.81386678 1308.71498962\n",
      " 1227.32950382 1319.33887678 1293.0308442  1316.86019389 1275.2976744\n",
      " 1203.48955707 1289.27814309 1164.06923265 1255.06447842 1250.3814846\n",
      " 1391.77719853 1361.08917814 1300.82815453 1254.1068985  1293.2392763\n",
      " 1293.03112407 1281.28767647 1225.29989021 1390.99713633 1290.53651418\n",
      " 1376.23670681 1290.73536824 1133.37844265 1270.4673058  1226.18556626\n",
      " 1287.44644164 1293.02854578 1252.83218757 1345.1973026  1290.83549677\n",
      " 1278.73517789 1241.96972843 1297.32939737 1379.47033693 1277.05767955\n",
      " 1375.08141792 1276.06923585 1293.0536392  1187.45915126 1278.48761256\n",
      " 1294.07173961 1298.22691937 1324.80394865 1170.36479536 1258.04142688\n",
      " 1293.03112383 1293.03112407 1230.79697689 1236.79147374 1323.75826676\n",
      " 1285.44952098 1295.75626967 1261.53742387 1210.16192304 1158.8616666\n",
      " 1219.12623906 1276.52483735 1216.60683683 1290.64315631 1270.01836458\n",
      " 1197.11180195 1244.28208942 1279.01033002 1283.14688439 1272.63657672\n",
      " 1215.868307   1183.09086482 1299.57323374 1305.85774108 1293.15430239\n",
      " 1287.74762039 1297.1570785  1270.68299017 1402.55471968 1270.99169272\n",
      " 1135.1935816  1371.57625395 1265.12822225 1222.62867215 1262.94482736\n",
      " 1293.03112407 1249.88415558 1232.03765546 1294.99993871 1293.03112407\n",
      " 1346.04111041 1306.39582118 1281.32488427 1311.46004674 1305.97394733\n",
      " 1311.57975409 1276.0919309  1424.85345678 1296.75151202 1293.03112407\n",
      " 1293.03112364 1228.8311325  1200.54408801 1269.51434772 1338.96579895\n",
      " 1242.28123369 1282.85138707 1360.52886729 1295.60659329 1315.2991391\n",
      " 1289.46518716 1300.78073408 1372.87060513 1324.28793399 1315.28352158\n",
      " 1355.47600997 1290.30617644 1290.49496289 1290.95599956 1281.00506894\n",
      " 1294.03085293 1293.53397377 1380.11989579 1280.61316905 1293.03112407\n",
      " 1293.03145167 1293.03395489 1252.36707491 1277.22925314 1293.03112407\n",
      " 1320.18986038 1164.40947058 1234.05211583 1297.10925436 1396.70862227\n",
      " 1293.03112407 1286.01438258 1208.83455525 1375.44375983 1134.48346438\n",
      " 1203.39568731 1260.73684477 1199.38751362 1298.87681497 1343.83550601\n",
      " 1250.2373061  1208.34605972 1227.79128839 1255.54325834 1293.37545418\n",
      " 1246.59027082 1409.37349323 1291.79015822 1293.61690319 1198.14458702\n",
      " 1324.58954379 1290.36635244 1294.81880241 1228.00549079 1291.90089631\n",
      " 1318.28528313 1282.48750463 1372.96251106 1258.23346884 1284.72545906\n",
      " 1301.93671615 1293.03112407 1273.40872207 1380.54075229 1314.55844191\n",
      " 1286.47416235 1220.60553436 1263.72997766 1201.38760324 1293.06638851\n",
      " 1275.50086017 1293.03112407 1378.8208743  1311.2293092  1296.74433395\n",
      " 1338.64391097 1293.03112407 1311.00461752 1299.77910248 1222.15390066\n",
      " 1312.49161154 1118.77774404 1196.98998959 1200.42682907 1289.53889736\n",
      " 1317.01652442 1297.91717654 1271.39710112 1276.15967152 1206.46561752\n",
      " 1412.03839976 1211.95723712 1293.03112407 1227.86992965 1314.39977746\n",
      " 1240.72449267 1306.22141508 1293.1045567  1209.89757168 1234.81432792\n",
      " 1311.89974121 1297.33897227 1236.55592295 1315.48851619 1268.37755176\n",
      " 1290.93318292 1243.61092622 1199.04309319 1287.2876734  1252.57915317\n",
      " 1252.86926966 1213.02767165 1221.10296083 1268.63648365 1293.03112407\n",
      " 1293.87562066 1293.13775364 1238.93108159 1400.49798959 1293.03112407\n",
      " 1322.65557339 1288.81457037 1282.60491753 1349.14051544 1299.18270575\n",
      " 1326.21047049 1247.3533134  1283.90870164 1302.27713671 1328.61914712\n",
      " 1313.22705245 1382.90679587 1225.60718767 1293.03061911 1301.74385885\n",
      " 1254.00657072 1284.6699395  1407.43655609 1293.71764785 1268.0608614\n",
      " 1293.03112407 1186.74275538 1293.03074455 1297.50650223 1194.49033746\n",
      " 1339.63749568 1294.47058357 1234.33205532 1143.04815101 1191.93033542\n",
      " 1297.78286064 1284.60032469 1276.79870013 1263.20802763 1193.29956177\n",
      " 1364.84165605 1301.77004312 1231.00012909 1229.98325875 1321.36642287\n",
      " 1325.72683837 1150.79698095 1281.52494608 1286.26187297 1279.4273611\n",
      " 1269.00394856 1334.2329181  1311.23995398 1293.03112407 1310.18502028\n",
      " 1233.71033824 1272.83260647 1244.65535873 1272.43135053 1365.72872312\n",
      " 1210.14694098 1307.3227375  1211.11894072 1305.73705502 1305.43688304\n",
      " 1293.9067376  1245.18386563 1298.55270679 1375.4839471  1294.88504602\n",
      " 1203.26733152 1276.98372792 1292.15666975 1316.02126629 1307.39086191\n",
      " 1309.25246873 1319.49369109 1240.18148717 1293.03341431 1224.71635994\n",
      " 1262.90591595 1293.47553682 1318.99273238 1249.42414368 1293.03112407\n",
      " 1189.21845815 1324.67313653 1224.69236481 1280.47806978 1285.21206672\n",
      " 1306.900562   1293.03112407 1392.04165629 1285.48526285 1253.57321098\n",
      " 1283.73924506 1293.03055336 1337.56384503 1351.64156136 1314.99604513\n",
      " 1293.03112407 1255.50420022 1308.363603   1193.28598241 1274.40202232\n",
      " 1398.68246297 1253.26285285 1297.98377182 1293.66791726 1245.96947099\n",
      " 1284.09677518 1253.92841276 1292.78404978 1268.90005998 1248.88562016\n",
      " 1314.93514798 1354.70757137 1293.03112407 1293.03112407 1231.66776281\n",
      " 1228.19552753 1315.8634615  1293.03116038 1308.43469001 1344.44086762\n",
      " 1263.2435085  1338.91862955 1269.73750146 1295.18516701 1296.8103193\n",
      " 1253.5676657  1313.12584673 1186.75108676 1353.57855871 1309.61042361\n",
      " 1309.99677722 1293.03235584 1293.02870347 1301.32980544 1267.59776684\n",
      " 1348.69304678 1274.39722639 1305.47229933 1313.46376049 1288.09301084\n",
      " 1366.09575203 1267.3563018  1409.95332582 1271.9379834  1330.8003915\n",
      " 1254.2910978  1202.94216653]\n"
     ]
    }
   ],
   "source": [
    "from sklearn.svm import SVR\n",
    "svr = SVR(C=10,gamma=0.001,kernel='rbf')\n",
    "svr.fit(x_train,y_train)\n",
    "svr_pred = svr.predict(x_test)\n",
    "print(svr_pred)\n"
   ]
  },
  {
   "cell_type": "code",
   "execution_count": null,
   "id": "d3cce6e2-649c-4c50-aa30-8ed7046a584d",
   "metadata": {},
   "outputs": [],
   "source": [
    "#among all the aboce explored models, you choose the one that performs well on test data which is the ridge regression model\n",
    "# we now import joblib to save our chosen model"
   ]
  },
  {
   "cell_type": "code",
   "execution_count": 44,
   "id": "e6ce0adf-9807-4964-b280-bed9364b3250",
   "metadata": {
    "tags": []
   },
   "outputs": [],
   "source": [
    "import joblib\n",
    "joblib.dump(ri,'model.pkl')\n",
    "ridge_from_joblib = chosen_model = joblib.load(\"model.pkl\")\n",
    "\n"
   ]
  },
  {
   "cell_type": "code",
   "execution_count": null,
   "id": "4aa3d2d1-3b62-470b-92f1-913804dcca6b",
   "metadata": {},
   "outputs": [],
   "source": []
  }
 ],
 "metadata": {
  "kernelspec": {
   "display_name": "Python 3 (ipykernel)",
   "language": "python",
   "name": "python3"
  },
  "language_info": {
   "codemirror_mode": {
    "name": "ipython",
    "version": 3
   },
   "file_extension": ".py",
   "mimetype": "text/x-python",
   "name": "python",
   "nbconvert_exporter": "python",
   "pygments_lexer": "ipython3",
   "version": "3.11.4"
  }
 },
 "nbformat": 4,
 "nbformat_minor": 5
}
