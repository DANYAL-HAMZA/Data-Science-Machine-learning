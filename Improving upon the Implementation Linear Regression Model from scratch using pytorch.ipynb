{
 "cells": [
  {
   "cell_type": "code",
   "execution_count": null,
   "id": "cf0815b1-cb4a-430e-8d17-679b6b23308c",
   "metadata": {},
   "outputs": [],
   "source": [
    "#implementing linear regression with pytorch's in built tools"
   ]
  },
  {
   "cell_type": "code",
   "execution_count": 10,
   "id": "58e179c9-0cff-4df6-8021-4efa437940e8",
   "metadata": {
    "tags": []
   },
   "outputs": [],
   "source": [
    "import torch.nn as nn\n",
    "import torch\n",
    "import numpy as np\n",
    "\n"
   ]
  },
  {
   "cell_type": "code",
   "execution_count": 9,
   "id": "093a455c-3b3c-4112-b8a0-28c3e3e1a2b1",
   "metadata": {
    "tags": []
   },
   "outputs": [],
   "source": [
    "inputs = np.array([[73,67,43],[91,88,65],[87,134,58],\n",
    "                   [102,43,37],[69,96,70],[73,67,43],\n",
    "                   [91,88,64],[87,134,58],[102,43,37],\n",
    "                   [69,96,70],[73,67,43],[91,88,64],\n",
    "                   [87,134,58],[102,43,37],[69,96,70]], dtype = \"float32\")\n",
    "\n",
    "targets =np.array([[56,70],[81,101],[119,133],\n",
    "                  [22,37],[103,119],[54,70],\n",
    "                  [81,101],[119,113],[22,37],\n",
    "                  [103,119],[56,70],[81,101],\n",
    "                  [119,113],[22,37],[103,119]], dtype = \"float32\")\n",
    "inputs = torch.from_numpy(inputs)\n",
    "targets = torch.from_numpy(targets)\n"
   ]
  },
  {
   "cell_type": "code",
   "execution_count": null,
   "id": "e3631ed9-19e6-4daa-a9c3-df900f50ae2e",
   "metadata": {},
   "outputs": [],
   "source": [
    "#now we analysize the data in batches using TENSORDATASET which allows us to access rows from inputs and targets as tuples\n",
    "#and provides standard apis for working with different types of dataset in pytorch\n"
   ]
  },
  {
   "cell_type": "code",
   "execution_count": null,
   "id": "8e7c4f58-6e41-431b-a13e-51ffeb748c03",
   "metadata": {},
   "outputs": [],
   "source": [
    "from torch.utils.data import TensorDataset\n"
   ]
  },
  {
   "cell_type": "code",
   "execution_count": 11,
   "id": "4fd11cb7-70d2-4efe-a116-db5169170793",
   "metadata": {
    "tags": []
   },
   "outputs": [
    {
     "data": {
      "text/plain": [
       "(tensor([[ 73.,  67.,  43.],\n",
       "         [ 91.,  88.,  65.],\n",
       "         [ 87., 134.,  58.]]),\n",
       " tensor([[ 56.,  70.],\n",
       "         [ 81., 101.],\n",
       "         [119., 133.]]))"
      ]
     },
     "execution_count": 11,
     "metadata": {},
     "output_type": "execute_result"
    }
   ],
   "source": [
    "train_ds = TensorDataset(inputs,targets)\n",
    "train_ds[0:3]"
   ]
  },
  {
   "cell_type": "code",
   "execution_count": null,
   "id": "f574d274-cfcd-45d7-9611-7eca16e937c9",
   "metadata": {},
   "outputs": [],
   "source": [
    "#we will also create a DATALOADER which can split data into batches of predefined size while training. It also provide \n",
    "#utilities for data shuffling and samplinh\n",
    "#it is used in a for in loop since it return multiple values"
   ]
  },
  {
   "cell_type": "code",
   "execution_count": 25,
   "id": "ca3ac8ef-0ad3-4569-a339-e7ab7713200a",
   "metadata": {
    "tags": []
   },
   "outputs": [],
   "source": [
    "from torch.utils.data import DataLoader"
   ]
  },
  {
   "cell_type": "code",
   "execution_count": 27,
   "id": "717b677f-4720-4a03-87e3-777dca9934ed",
   "metadata": {
    "tags": []
   },
   "outputs": [],
   "source": [
    "batch_size = 5\n",
    "train_dl = DataLoader(train_ds,batch_size,shuffle=True)"
   ]
  },
  {
   "cell_type": "code",
   "execution_count": 28,
   "id": "1556381d-65e7-4241-99bf-e040e435fba1",
   "metadata": {
    "tags": []
   },
   "outputs": [
    {
     "name": "stdout",
     "output_type": "stream",
     "text": [
      "tensor([[ 73.,  67.,  43.],\n",
      "        [102.,  43.,  37.],\n",
      "        [ 73.,  67.,  43.],\n",
      "        [ 91.,  88.,  65.],\n",
      "        [ 73.,  67.,  43.]])\n",
      "tensor([[ 54.,  70.],\n",
      "        [ 22.,  37.],\n",
      "        [ 56.,  70.],\n",
      "        [ 81., 101.],\n",
      "        [ 56.,  70.]])\n"
     ]
    }
   ],
   "source": [
    "for xb,yb in train_dl:\n",
    "    print(xb)\n",
    "    print(yb)\n",
    "    break"
   ]
  },
  {
   "cell_type": "code",
   "execution_count": null,
   "id": "a41d6b86-c47d-4ec6-91b1-6567cd17fcc7",
   "metadata": {},
   "outputs": [],
   "source": [
    "#instead of initializing the weghts and biases manually, we can define the model using the nn.linear class from pytorch"
   ]
  },
  {
   "cell_type": "code",
   "execution_count": 29,
   "id": "9ab1f69c-7be1-4231-a72c-3b48684f690e",
   "metadata": {
    "tags": []
   },
   "outputs": [
    {
     "name": "stdout",
     "output_type": "stream",
     "text": [
      "Parameter containing:\n",
      "tensor([[-0.4442, -0.1038,  0.4537],\n",
      "        [ 0.4539,  0.4066,  0.0031]], requires_grad=True)\n",
      "Parameter containing:\n",
      "tensor([-0.5299,  0.2085], requires_grad=True)\n"
     ]
    }
   ],
   "source": [
    "#define model, specifying the number of inputs and targets which are 3 and 2 respectively.\n",
    "model = nn.Linear(3,2)\n",
    "print(model.weight)\n",
    "print(model.bias)\n"
   ]
  },
  {
   "cell_type": "code",
   "execution_count": 30,
   "id": "40ab6063-58d7-44b9-8347-11af35b9d038",
   "metadata": {
    "tags": []
   },
   "outputs": [
    {
     "data": {
      "text/plain": [
       "tensor([[-20.4001,  60.7157],\n",
       "        [-20.5937,  77.4917],\n",
       "        [-26.7661,  94.3564],\n",
       "        [-33.5134,  64.1025],\n",
       "        [ -9.3831,  70.7740],\n",
       "        [-20.4001,  60.7157],\n",
       "        [-21.0473,  77.4886],\n",
       "        [-26.7661,  94.3564],\n",
       "        [-33.5134,  64.1025],\n",
       "        [ -9.3831,  70.7740],\n",
       "        [-20.4001,  60.7157],\n",
       "        [-21.0473,  77.4886],\n",
       "        [-26.7661,  94.3564],\n",
       "        [-33.5134,  64.1025],\n",
       "        [ -9.3831,  70.7740]], grad_fn=<AddmmBackward0>)"
      ]
     },
     "execution_count": 30,
     "metadata": {},
     "output_type": "execute_result"
    }
   ],
   "source": [
    "#we then generate predictions with the model\n",
    "preds = model(inputs)\n",
    "preds"
   ]
  },
  {
   "cell_type": "code",
   "execution_count": null,
   "id": "8a30de0f-a89a-4601-b444-b9d5071623ed",
   "metadata": {},
   "outputs": [],
   "source": [
    "#our predictions are quite far from our targets if we compare both\n",
    "#so we calculate the loss function"
   ]
  },
  {
   "cell_type": "code",
   "execution_count": 31,
   "id": "f599a53e-be27-4c2b-a038-60205bf99e58",
   "metadata": {
    "tags": []
   },
   "outputs": [],
   "source": [
    "import torch.nn.functional as f"
   ]
  },
  {
   "cell_type": "code",
   "execution_count": 34,
   "id": "600e5042-9fe3-4085-a6e5-93720d409217",
   "metadata": {
    "tags": []
   },
   "outputs": [
    {
     "name": "stdout",
     "output_type": "stream",
     "text": [
      "tensor(5750.7515, grad_fn=<MseLossBackward0>)\n"
     ]
    }
   ],
   "source": [
    "loss_fn = f.mse_loss\n",
    "loss = loss_fn(preds,targets)\n",
    "print(loss)"
   ]
  },
  {
   "cell_type": "raw",
   "id": "23fcb48a-b311-4d4a-9a73-bded5c4e5d15",
   "metadata": {},
   "source": [
    "#the loss value is very large which is bad, hence we optimize the loss function using gradient decent"
   ]
  },
  {
   "cell_type": "code",
   "execution_count": 33,
   "id": "adbb6c32-c7ab-4816-af57-c875c913bbd3",
   "metadata": {
    "tags": []
   },
   "outputs": [],
   "source": [
    "#we pass the model.parameter() so the method knows which matrix should be modified during update step\n",
    "#you can also pass the learing rate\n",
    "opt = torch.optim.SGD(model.parameters(),lr=1e-5)"
   ]
  },
  {
   "cell_type": "code",
   "execution_count": null,
   "id": "20c1669d-38e5-4156-b715-6f0b4f52b8be",
   "metadata": {},
   "outputs": [],
   "source": [
    "#we create a function to train the model"
   ]
  },
  {
   "cell_type": "code",
   "execution_count": 48,
   "id": "1ce7263d-fe10-4f41-b873-77300d3c7c23",
   "metadata": {
    "tags": []
   },
   "outputs": [],
   "source": [
    "#repeat for given num of epochs\n",
    "def fit(num_epochs,model,loss_fn, opt):\n",
    "    for epoch in range(num_epochs):\n",
    "        #train with batches of data\n",
    "        for xb,yb in train_dl:\n",
    "            preds = model(xb)\n",
    "            loss = loss_fn(preds,yb)\n",
    "            #compute gradient of loss\n",
    "            loss.backward()\n",
    "            #update predictions using gradients\n",
    "            opt.step()\n",
    "            #reset gradients to zero\n",
    "            opt.zero_grad()\n",
    "            #print the progress\n",
    "    if(epoch+1) % 10 == 0:\n",
    "            print('epoch[{}/{}],loss:{:.4f}'.format(epoch+1,num_epochs,loss.item()))\n",
    "            \n",
    "                  \n",
    "    "
   ]
  },
  {
   "cell_type": "code",
   "execution_count": 55,
   "id": "b59d60e3-2f2e-481f-8e83-ab0117041614",
   "metadata": {
    "tags": []
   },
   "outputs": [
    {
     "name": "stdout",
     "output_type": "stream",
     "text": [
      "epoch[100/100],loss:17.0273\n"
     ]
    }
   ],
   "source": [
    "fit(100,model,loss_fn,opt)"
   ]
  },
  {
   "cell_type": "code",
   "execution_count": 56,
   "id": "bbf95cbe-6792-4378-b74a-e214d6e9a5ec",
   "metadata": {
    "tags": []
   },
   "outputs": [
    {
     "name": "stdout",
     "output_type": "stream",
     "text": [
      "tensor([[ 56.9521,  68.2201],\n",
      "        [ 82.8334, 101.2186],\n",
      "        [118.5484, 121.0209],\n",
      "        [ 20.8734,  38.0522],\n",
      "        [101.8659, 118.6656],\n",
      "        [ 56.9521,  68.2201],\n",
      "        [ 82.1392, 100.0247],\n",
      "        [118.5484, 121.0209],\n",
      "        [ 20.8734,  38.0522],\n",
      "        [101.8659, 118.6656],\n",
      "        [ 56.9521,  68.2201],\n",
      "        [ 82.1392, 100.0247],\n",
      "        [118.5484, 121.0209],\n",
      "        [ 20.8734,  38.0522],\n",
      "        [101.8659, 118.6656]], grad_fn=<AddmmBackward0>)\n"
     ]
    }
   ],
   "source": [
    "preds = model(inputs)\n",
    "print(preds)"
   ]
  },
  {
   "cell_type": "code",
   "execution_count": 57,
   "id": "c1d14eae-1c73-440f-a1fc-68aeaea4a487",
   "metadata": {
    "tags": []
   },
   "outputs": [
    {
     "name": "stdout",
     "output_type": "stream",
     "text": [
      "tensor([[ 56.,  70.],\n",
      "        [ 81., 101.],\n",
      "        [119., 133.],\n",
      "        [ 22.,  37.],\n",
      "        [103., 119.],\n",
      "        [ 54.,  70.],\n",
      "        [ 81., 101.],\n",
      "        [119., 113.],\n",
      "        [ 22.,  37.],\n",
      "        [103., 119.],\n",
      "        [ 56.,  70.],\n",
      "        [ 81., 101.],\n",
      "        [119., 113.],\n",
      "        [ 22.,  37.],\n",
      "        [103., 119.]])\n"
     ]
    }
   ],
   "source": [
    "print(targets)"
   ]
  },
  {
   "cell_type": "code",
   "execution_count": null,
   "id": "bb9e2346-6aef-4771-bf04-e1cd921c3273",
   "metadata": {},
   "outputs": [],
   "source": [
    "#Our predictions are now quite close to our targets an we can use th model for any further excercise "
   ]
  },
  {
   "cell_type": "code",
   "execution_count": 1,
   "id": "bc92a980-5cd7-4821-b887-049d9e502c59",
   "metadata": {},
   "outputs": [
    {
     "data": {
      "application/javascript": [
       "if (window.IPython && IPython.notebook.kernel) IPython.notebook.kernel.execute('jovian.utils.jupyter.get_notebook_name_saved = lambda: \"' + IPython.notebook.notebook_name + '\"')"
      ],
      "text/plain": [
       "<IPython.core.display.Javascript object>"
      ]
     },
     "metadata": {},
     "output_type": "display_data"
    }
   ],
   "source": [
    "import jovian"
   ]
  },
  {
   "cell_type": "code",
   "execution_count": 2,
   "id": "d20c7b7a-eb9b-40d9-a471-a1e0c2a8b763",
   "metadata": {
    "tags": []
   },
   "outputs": [
    {
     "data": {
      "application/javascript": [
       "window.require && require([\"base/js/namespace\"],function(Jupyter){Jupyter.notebook.save_checkpoint()})"
      ],
      "text/plain": [
       "<IPython.core.display.Javascript object>"
      ]
     },
     "metadata": {},
     "output_type": "display_data"
    },
    {
     "name": "stdout",
     "output_type": "stream",
     "text": [
      "[jovian] Committed successfully! https://jovian.com/danyal-hamza/untitled5\u001b[0m\n"
     ]
    },
    {
     "data": {
      "text/plain": [
       "'https://jovian.com/danyal-hamza/untitled5'"
      ]
     },
     "execution_count": 2,
     "metadata": {},
     "output_type": "execute_result"
    }
   ],
   "source": [
    "jovian.commit(filename = 'Untitled5.ipynb')"
   ]
  },
  {
   "cell_type": "code",
   "execution_count": null,
   "id": "7f11f90a-fa56-4c78-a3c0-52fd52b6c6d5",
   "metadata": {},
   "outputs": [],
   "source": []
  }
 ],
 "metadata": {
  "kernelspec": {
   "display_name": "Python 3 (ipykernel)",
   "language": "python",
   "name": "python3"
  },
  "language_info": {
   "codemirror_mode": {
    "name": "ipython",
    "version": 3
   },
   "file_extension": ".py",
   "mimetype": "text/x-python",
   "name": "python",
   "nbconvert_exporter": "python",
   "pygments_lexer": "ipython3",
   "version": "3.11.4"
  }
 },
 "nbformat": 4,
 "nbformat_minor": 5
}
